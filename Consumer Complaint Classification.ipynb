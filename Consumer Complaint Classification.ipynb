{
 "cells": [
  {
   "cell_type": "markdown",
   "metadata": {
    "id": "j5Th7ytlyYLd"
   },
   "source": [
    "### Consumer complaint classification"
   ]
  },
  {
   "cell_type": "code",
   "execution_count": 1,
   "metadata": {
    "id": "syaBn2msz9qM"
   },
   "outputs": [],
   "source": [
    "import pandas as pd\n",
    "import numpy as np\n",
    "import matplotlib.pyplot as plt\n",
    "from sklearn.model_selection import train_test_split,cross_val_score"
   ]
  },
  {
   "cell_type": "code",
   "execution_count": 2,
   "metadata": {
    "id": "CaZq4c5Xz9qV"
   },
   "outputs": [],
   "source": [
    "df = pd.read_csv(\"Consumer_Complaints.csv\")"
   ]
  },
  {
   "cell_type": "code",
   "execution_count": 3,
   "metadata": {
    "id": "lXlL1IMkz9qW"
   },
   "outputs": [
    {
     "data": {
      "text/html": [
       "<div>\n",
       "<style scoped>\n",
       "    .dataframe tbody tr th:only-of-type {\n",
       "        vertical-align: middle;\n",
       "    }\n",
       "\n",
       "    .dataframe tbody tr th {\n",
       "        vertical-align: top;\n",
       "    }\n",
       "\n",
       "    .dataframe thead th {\n",
       "        text-align: right;\n",
       "    }\n",
       "</style>\n",
       "<table border=\"1\" class=\"dataframe\">\n",
       "  <thead>\n",
       "    <tr style=\"text-align: right;\">\n",
       "      <th></th>\n",
       "      <th>Date received</th>\n",
       "      <th>Product</th>\n",
       "      <th>Sub-product</th>\n",
       "      <th>Issue</th>\n",
       "      <th>Sub-issue</th>\n",
       "      <th>Consumer Complaint</th>\n",
       "      <th>Company Public Response</th>\n",
       "      <th>Company</th>\n",
       "      <th>State</th>\n",
       "      <th>ZIP code</th>\n",
       "      <th>Tags</th>\n",
       "      <th>Consumer consent provided?</th>\n",
       "      <th>Submitted via</th>\n",
       "      <th>Date Sent to Company</th>\n",
       "      <th>Company Response to Consumer</th>\n",
       "      <th>Timely response?</th>\n",
       "      <th>Consumer disputed?</th>\n",
       "      <th>Complaint ID</th>\n",
       "    </tr>\n",
       "  </thead>\n",
       "  <tbody>\n",
       "    <tr>\n",
       "      <th>0</th>\n",
       "      <td>3/12/14</td>\n",
       "      <td>Mortgage</td>\n",
       "      <td>Other mortgage</td>\n",
       "      <td>Loan modification,collection,foreclosure</td>\n",
       "      <td>NaN</td>\n",
       "      <td>NaN</td>\n",
       "      <td>NaN</td>\n",
       "      <td>M&amp;T BANK CORPORATION</td>\n",
       "      <td>MI</td>\n",
       "      <td>48382</td>\n",
       "      <td>NaN</td>\n",
       "      <td>NaN</td>\n",
       "      <td>Referral</td>\n",
       "      <td>3/17/14</td>\n",
       "      <td>Closed with explanation</td>\n",
       "      <td>Yes</td>\n",
       "      <td>No</td>\n",
       "      <td>759217</td>\n",
       "    </tr>\n",
       "    <tr>\n",
       "      <th>1</th>\n",
       "      <td>10/1/16</td>\n",
       "      <td>Credit reporting</td>\n",
       "      <td>NaN</td>\n",
       "      <td>Incorrect information on credit report</td>\n",
       "      <td>Account status</td>\n",
       "      <td>I have outdated information on my credit repor...</td>\n",
       "      <td>Company has responded to the consumer and the ...</td>\n",
       "      <td>TRANSUNION INTERMEDIATE HOLDINGS, INC.</td>\n",
       "      <td>AL</td>\n",
       "      <td>352XX</td>\n",
       "      <td>NaN</td>\n",
       "      <td>Consent provided</td>\n",
       "      <td>Web</td>\n",
       "      <td>10/5/16</td>\n",
       "      <td>Closed with explanation</td>\n",
       "      <td>Yes</td>\n",
       "      <td>No</td>\n",
       "      <td>2141773</td>\n",
       "    </tr>\n",
       "    <tr>\n",
       "      <th>2</th>\n",
       "      <td>10/17/16</td>\n",
       "      <td>Consumer Loan</td>\n",
       "      <td>Vehicle loan</td>\n",
       "      <td>Managing the loan or lease</td>\n",
       "      <td>NaN</td>\n",
       "      <td>I purchased a new car on XXXX XXXX. The car de...</td>\n",
       "      <td>NaN</td>\n",
       "      <td>CITIZENS FINANCIAL GROUP, INC.</td>\n",
       "      <td>PA</td>\n",
       "      <td>177XX</td>\n",
       "      <td>Older American</td>\n",
       "      <td>Consent provided</td>\n",
       "      <td>Web</td>\n",
       "      <td>10/20/16</td>\n",
       "      <td>Closed with explanation</td>\n",
       "      <td>Yes</td>\n",
       "      <td>No</td>\n",
       "      <td>2163100</td>\n",
       "    </tr>\n",
       "    <tr>\n",
       "      <th>3</th>\n",
       "      <td>6/8/14</td>\n",
       "      <td>Credit card</td>\n",
       "      <td>NaN</td>\n",
       "      <td>Bankruptcy</td>\n",
       "      <td>NaN</td>\n",
       "      <td>NaN</td>\n",
       "      <td>NaN</td>\n",
       "      <td>AMERICAN EXPRESS COMPANY</td>\n",
       "      <td>ID</td>\n",
       "      <td>83854</td>\n",
       "      <td>Older American</td>\n",
       "      <td>NaN</td>\n",
       "      <td>Web</td>\n",
       "      <td>6/10/14</td>\n",
       "      <td>Closed with explanation</td>\n",
       "      <td>Yes</td>\n",
       "      <td>Yes</td>\n",
       "      <td>885638</td>\n",
       "    </tr>\n",
       "    <tr>\n",
       "      <th>4</th>\n",
       "      <td>9/13/14</td>\n",
       "      <td>Debt collection</td>\n",
       "      <td>Credit card</td>\n",
       "      <td>Communication tactics</td>\n",
       "      <td>Frequent or repeated calls</td>\n",
       "      <td>NaN</td>\n",
       "      <td>NaN</td>\n",
       "      <td>CITIBANK, N.A.</td>\n",
       "      <td>VA</td>\n",
       "      <td>23233</td>\n",
       "      <td>NaN</td>\n",
       "      <td>NaN</td>\n",
       "      <td>Web</td>\n",
       "      <td>9/13/14</td>\n",
       "      <td>Closed with explanation</td>\n",
       "      <td>Yes</td>\n",
       "      <td>Yes</td>\n",
       "      <td>1027760</td>\n",
       "    </tr>\n",
       "  </tbody>\n",
       "</table>\n",
       "</div>"
      ],
      "text/plain": [
       "  Date received           Product     Sub-product  \\\n",
       "0       3/12/14          Mortgage  Other mortgage   \n",
       "1       10/1/16  Credit reporting             NaN   \n",
       "2      10/17/16     Consumer Loan    Vehicle loan   \n",
       "3        6/8/14       Credit card             NaN   \n",
       "4       9/13/14   Debt collection     Credit card   \n",
       "\n",
       "                                      Issue                   Sub-issue  \\\n",
       "0  Loan modification,collection,foreclosure                         NaN   \n",
       "1    Incorrect information on credit report              Account status   \n",
       "2                Managing the loan or lease                         NaN   \n",
       "3                                Bankruptcy                         NaN   \n",
       "4                     Communication tactics  Frequent or repeated calls   \n",
       "\n",
       "                                  Consumer Complaint  \\\n",
       "0                                                NaN   \n",
       "1  I have outdated information on my credit repor...   \n",
       "2  I purchased a new car on XXXX XXXX. The car de...   \n",
       "3                                                NaN   \n",
       "4                                                NaN   \n",
       "\n",
       "                             Company Public Response  \\\n",
       "0                                                NaN   \n",
       "1  Company has responded to the consumer and the ...   \n",
       "2                                                NaN   \n",
       "3                                                NaN   \n",
       "4                                                NaN   \n",
       "\n",
       "                                  Company State ZIP code            Tags  \\\n",
       "0                    M&T BANK CORPORATION    MI    48382             NaN   \n",
       "1  TRANSUNION INTERMEDIATE HOLDINGS, INC.    AL    352XX             NaN   \n",
       "2          CITIZENS FINANCIAL GROUP, INC.    PA    177XX  Older American   \n",
       "3                AMERICAN EXPRESS COMPANY    ID    83854  Older American   \n",
       "4                          CITIBANK, N.A.    VA    23233             NaN   \n",
       "\n",
       "  Consumer consent provided? Submitted via Date Sent to Company  \\\n",
       "0                        NaN      Referral              3/17/14   \n",
       "1           Consent provided           Web              10/5/16   \n",
       "2           Consent provided           Web             10/20/16   \n",
       "3                        NaN           Web              6/10/14   \n",
       "4                        NaN           Web              9/13/14   \n",
       "\n",
       "  Company Response to Consumer Timely response? Consumer disputed?  \\\n",
       "0      Closed with explanation              Yes                 No   \n",
       "1      Closed with explanation              Yes                 No   \n",
       "2      Closed with explanation              Yes                 No   \n",
       "3      Closed with explanation              Yes                Yes   \n",
       "4      Closed with explanation              Yes                Yes   \n",
       "\n",
       "   Complaint ID  \n",
       "0        759217  \n",
       "1       2141773  \n",
       "2       2163100  \n",
       "3        885638  \n",
       "4       1027760  "
      ]
     },
     "execution_count": 3,
     "metadata": {},
     "output_type": "execute_result"
    }
   ],
   "source": [
    "df.head()"
   ]
  },
  {
   "cell_type": "code",
   "execution_count": 4,
   "metadata": {
    "id": "jOcrAR_wz9qX"
   },
   "outputs": [
    {
     "data": {
      "text/plain": [
       "(9999, 18)"
      ]
     },
     "execution_count": 4,
     "metadata": {},
     "output_type": "execute_result"
    }
   ],
   "source": [
    "df.shape"
   ]
  },
  {
   "cell_type": "code",
   "execution_count": 5,
   "metadata": {
    "id": "wtIhWQ-sz9qX"
   },
   "outputs": [],
   "source": [
    "col = ['Product', 'Consumer Complaint']\n",
    "df= df[col]"
   ]
  },
  {
   "cell_type": "code",
   "execution_count": 6,
   "metadata": {
    "id": "OsuKzKRXz9qY"
   },
   "outputs": [],
   "source": [
    "df= df[pd.notnull(df['Consumer Complaint'])]"
   ]
  },
  {
   "cell_type": "code",
   "execution_count": 7,
   "metadata": {
    "id": "qFCPGi7Nz9qY"
   },
   "outputs": [],
   "source": [
    "df.columns=['Product', 'Consumer_complaint']"
   ]
  },
  {
   "cell_type": "code",
   "execution_count": 8,
   "metadata": {
    "id": "Oj68RWwCz9qY"
   },
   "outputs": [],
   "source": [
    "df['category_id'] = df['Product'].factorize()[0]"
   ]
  },
  {
   "cell_type": "code",
   "execution_count": 9,
   "metadata": {
    "id": "8f44H68mz9qY"
   },
   "outputs": [],
   "source": [
    "cat_id_df = df[[\"Product\", \"category_id\"]].drop_duplicates().sort_values('category_id')"
   ]
  },
  {
   "cell_type": "code",
   "execution_count": 10,
   "metadata": {
    "id": "qscNmta6z9qZ"
   },
   "outputs": [],
   "source": [
    "cat_to_id = dict(cat_id_df.values)"
   ]
  },
  {
   "cell_type": "code",
   "execution_count": 11,
   "metadata": {
    "id": "IbfPRlk4z9qZ"
   },
   "outputs": [],
   "source": [
    "id_to_cat = dict(cat_id_df[['category_id','Product']].values)"
   ]
  },
  {
   "cell_type": "code",
   "execution_count": 12,
   "metadata": {
    "id": "bbBd8I5nz9qZ"
   },
   "outputs": [
    {
     "data": {
      "text/html": [
       "<div>\n",
       "<style scoped>\n",
       "    .dataframe tbody tr th:only-of-type {\n",
       "        vertical-align: middle;\n",
       "    }\n",
       "\n",
       "    .dataframe tbody tr th {\n",
       "        vertical-align: top;\n",
       "    }\n",
       "\n",
       "    .dataframe thead th {\n",
       "        text-align: right;\n",
       "    }\n",
       "</style>\n",
       "<table border=\"1\" class=\"dataframe\">\n",
       "  <thead>\n",
       "    <tr style=\"text-align: right;\">\n",
       "      <th></th>\n",
       "      <th>Product</th>\n",
       "      <th>Consumer_complaint</th>\n",
       "      <th>category_id</th>\n",
       "    </tr>\n",
       "  </thead>\n",
       "  <tbody>\n",
       "    <tr>\n",
       "      <th>1</th>\n",
       "      <td>Credit reporting</td>\n",
       "      <td>I have outdated information on my credit repor...</td>\n",
       "      <td>0</td>\n",
       "    </tr>\n",
       "    <tr>\n",
       "      <th>2</th>\n",
       "      <td>Consumer Loan</td>\n",
       "      <td>I purchased a new car on XXXX XXXX. The car de...</td>\n",
       "      <td>1</td>\n",
       "    </tr>\n",
       "    <tr>\n",
       "      <th>7</th>\n",
       "      <td>Credit reporting</td>\n",
       "      <td>An account on my credit report has a mistaken ...</td>\n",
       "      <td>0</td>\n",
       "    </tr>\n",
       "    <tr>\n",
       "      <th>12</th>\n",
       "      <td>Debt collection</td>\n",
       "      <td>This company refuses to provide me verificatio...</td>\n",
       "      <td>2</td>\n",
       "    </tr>\n",
       "    <tr>\n",
       "      <th>16</th>\n",
       "      <td>Debt collection</td>\n",
       "      <td>This complaint is in regards to Square Two Fin...</td>\n",
       "      <td>2</td>\n",
       "    </tr>\n",
       "  </tbody>\n",
       "</table>\n",
       "</div>"
      ],
      "text/plain": [
       "             Product                                 Consumer_complaint  \\\n",
       "1   Credit reporting  I have outdated information on my credit repor...   \n",
       "2      Consumer Loan  I purchased a new car on XXXX XXXX. The car de...   \n",
       "7   Credit reporting  An account on my credit report has a mistaken ...   \n",
       "12   Debt collection  This company refuses to provide me verificatio...   \n",
       "16   Debt collection  This complaint is in regards to Square Two Fin...   \n",
       "\n",
       "    category_id  \n",
       "1             0  \n",
       "2             1  \n",
       "7             0  \n",
       "12            2  \n",
       "16            2  "
      ]
     },
     "execution_count": 12,
     "metadata": {},
     "output_type": "execute_result"
    }
   ],
   "source": [
    "df.head()"
   ]
  },
  {
   "cell_type": "code",
   "execution_count": 14,
   "metadata": {
    "id": "ADeUeGaCz9qa"
   },
   "outputs": [
    {
     "data": {
      "text/plain": [
       "<Figure size 576x432 with 0 Axes>"
      ]
     },
     "metadata": {},
     "output_type": "display_data"
    }
   ],
   "source": [
    "fig = plt.figure(figsize= (8,6))\n",
    "plt.show()"
   ]
  },
  {
   "cell_type": "code",
   "execution_count": 15,
   "metadata": {
    "id": "itVydsoKz9qa"
   },
   "outputs": [
    {
     "data": {
      "text/plain": [
       "<AxesSubplot:xlabel='Product'>"
      ]
     },
     "execution_count": 15,
     "metadata": {},
     "output_type": "execute_result"
    },
    {
     "data": {
      "image/png": "[encoded data removed]",
      "text/plain": [
       "<Figure size 432x288 with 1 Axes>"
      ]
     },
     "metadata": {
      "needs_background": "light"
     },
     "output_type": "display_data"
    }
   ],
   "source": [
    "df.groupby('Product').Consumer_complaint.count().plot.bar(ylim=0)"
   ]
  },
  {
   "cell_type": "code",
   "execution_count": 18,
   "metadata": {
    "id": "4wQAI_tmz9qa"
   },
   "outputs": [],
   "source": [
    "from sklearn.feature_extraction.text import TfidfVectorizer"
   ]
  },
  {
   "cell_type": "code",
   "execution_count": 19,
   "metadata": {
    "id": "g_hcAYj3z9qa"
   },
   "outputs": [],
   "source": [
    "tfidf = TfidfVectorizer(sublinear_tf= True, #use a logarithmic form for frequency\n",
    "                       min_df = 5, #minimum numbers of documents a word must be present in to be kept\n",
    "                       norm= 'l2', #ensure all our feature vectors have a euclidian norm of 1\n",
    "                       ngram_range= (1,2), #to indicate that we want to consider both unigrams and bigrams.\n",
    "                       stop_words ='english') #to remove all common pronouns to reduce the number of noisy features"
   ]
  },
  {
   "cell_type": "code",
   "execution_count": 20,
   "metadata": {
    "id": "T-iY9opBz9qb"
   },
   "outputs": [],
   "source": [
    "features = tfidf.fit_transform(df.Consumer_complaint).toarray()"
   ]
  },
  {
   "cell_type": "code",
   "execution_count": 21,
   "metadata": {
    "id": "ExRt0oxgz9qb"
   },
   "outputs": [
    {
     "data": {
      "text/plain": [
       "(2114, 6081)"
      ]
     },
     "execution_count": 21,
     "metadata": {},
     "output_type": "execute_result"
    }
   ],
   "source": [
    "labels = df.category_id\n",
    "features.shape"
   ]
  },
  {
   "cell_type": "code",
   "execution_count": 22,
   "metadata": {
    "id": "X998eeOdz9qb"
   },
   "outputs": [],
   "source": [
    "from sklearn.model_selection import train_test_split"
   ]
  },
  {
   "cell_type": "code",
   "execution_count": 23,
   "metadata": {
    "id": "S4pYYfWaz9qb"
   },
   "outputs": [],
   "source": [
    "X_train, X_test, y_train, y_test = train_test_split(df['Consumer_complaint'], df['Product'], random_state= 0)"
   ]
  },
  {
   "cell_type": "code",
   "execution_count": 24,
   "metadata": {
    "id": "4VDFOQ9Cz9qb"
   },
   "outputs": [],
   "source": [
    "from sklearn.feature_extraction.text import CountVectorizer"
   ]
  },
  {
   "cell_type": "code",
   "execution_count": 25,
   "metadata": {
    "id": "qeIwURBlz9qb"
   },
   "outputs": [],
   "source": [
    "count_vect = CountVectorizer()"
   ]
  },
  {
   "cell_type": "code",
   "execution_count": 26,
   "metadata": {
    "id": "uD2hwGBBz9qc"
   },
   "outputs": [],
   "source": [
    "from sklearn.feature_extraction.text import TfidfTransformer"
   ]
  },
  {
   "cell_type": "code",
   "execution_count": 27,
   "metadata": {
    "id": "xBk1nosUz9qc"
   },
   "outputs": [],
   "source": [
    "X_train_counts = count_vect.fit_transform(X_train)\n",
    "tfidf_transformer = TfidfTransformer()\n",
    "X_train_tfidf = tfidf_transformer.fit_transform(X_train_counts)"
   ]
  },
  {
   "cell_type": "markdown",
   "metadata": {
    "id": "TIoUMScDIQP2"
   },
   "source": [
    "### Model Building"
   ]
  },
  {
   "cell_type": "code",
   "execution_count": 28,
   "metadata": {
    "id": "zmDAho-Uz9qc"
   },
   "outputs": [],
   "source": [
    "from sklearn.svm import LinearSVC\n",
    "clf = LinearSVC().fit(X_train_tfidf, y_train)"
   ]
  },
  {
   "cell_type": "code",
   "execution_count": 29,
   "metadata": {
    "id": "5krFWmH7z9qc"
   },
   "outputs": [
    {
     "name": "stdout",
     "output_type": "stream",
     "text": [
      "['Credit reporting']\n"
     ]
    }
   ],
   "source": [
    "print(clf.predict(count_vect.transform(['I have outdated information on my credit repor'])))"
   ]
  },
  {
   "cell_type": "code",
   "execution_count": 30,
   "metadata": {
    "id": "elOPO0w8z9qc"
   },
   "outputs": [],
   "source": [
    "y_pred = clf.predict(count_vect.transform(X_test))"
   ]
  },
  {
   "cell_type": "code",
   "execution_count": 31,
   "metadata": {
    "id": "n-E9hk0tz9qd"
   },
   "outputs": [],
   "source": [
    "from sklearn import metrics"
   ]
  },
  {
   "cell_type": "code",
   "execution_count": 39,
   "metadata": {
    "id": "N2y8_1SJz9qd"
   },
   "outputs": [
    {
     "name": "stdout",
     "output_type": "stream",
     "text": [
      "                                                                              precision    recall  f1-score   support\n",
      "\n",
      "                                                     Bank account or service       0.60      0.80      0.69        44\n",
      "                                                               Consumer Loan       0.36      0.43      0.39        21\n",
      "                                                                 Credit card       0.69      0.78      0.73        72\n",
      "                                                            Credit reporting       0.70      0.87      0.77        91\n",
      "Credit reporting, credit repair services, or other personal consumer reports       0.00      0.00      0.00         2\n",
      "                                                             Debt collection       0.86      0.69      0.76       124\n",
      "                                                             Money transfers       0.20      0.09      0.13        11\n",
      "                                                                    Mortgage       0.86      0.89      0.88       113\n",
      "                                                     Other financial service       0.00      0.00      0.00         1\n",
      "                                                                 Payday loan       0.00      0.00      0.00         8\n",
      "                                                                Prepaid card       0.00      0.00      0.00         8\n",
      "                                                                Student loan       0.83      0.74      0.78        34\n",
      "\n",
      "                                                                    accuracy                           0.74       529\n",
      "                                                                   macro avg       0.43      0.44      0.43       529\n",
      "                                                                weighted avg       0.72      0.74      0.72       529\n",
      "\n"
     ]
    },
    {
     "name": "stderr",
     "output_type": "stream",
     "text": [
      "c:\\users\\jastyn\\appdata\\local\\programs\\python\\python39\\lib\\site-packages\\sklearn\\metrics\\_classification.py:1248: UndefinedMetricWarning: Precision and F-score are ill-defined and being set to 0.0 in labels with no predicted samples. Use `zero_division` parameter to control this behavior.\n",
      "  _warn_prf(average, modifier, msg_start, len(result))\n",
      "c:\\users\\jastyn\\appdata\\local\\programs\\python\\python39\\lib\\site-packages\\sklearn\\metrics\\_classification.py:1248: UndefinedMetricWarning: Precision and F-score are ill-defined and being set to 0.0 in labels with no predicted samples. Use `zero_division` parameter to control this behavior.\n",
      "  _warn_prf(average, modifier, msg_start, len(result))\n",
      "c:\\users\\jastyn\\appdata\\local\\programs\\python\\python39\\lib\\site-packages\\sklearn\\metrics\\_classification.py:1248: UndefinedMetricWarning: Precision and F-score are ill-defined and being set to 0.0 in labels with no predicted samples. Use `zero_division` parameter to control this behavior.\n",
      "  _warn_prf(average, modifier, msg_start, len(result))\n"
     ]
    }
   ],
   "source": [
    "print(metrics.classification_report(y_test,y_pred))"
   ]
  },
  {
   "cell_type": "code",
   "execution_count": 40,
   "metadata": {
    "id": "nlSh_ZYRz9qd"
   },
   "outputs": [],
   "source": [
    "from sklearn.pipeline import Pipeline"
   ]
  },
  {
   "cell_type": "code",
   "execution_count": 41,
   "metadata": {
    "id": "dCCgdOWmz9qd"
   },
   "outputs": [],
   "source": [
    "text_clf=Pipeline([('tf',TfidfVectorizer(sublinear_tf= True, \n",
    "                       min_df = 5, \n",
    "                       norm= 'l2', \n",
    "                       ngram_range= (1,2), \n",
    "                       stop_words ='english') ),\n",
    "                 ('clf',LinearSVC())])"
   ]
  },
  {
   "cell_type": "code",
   "execution_count": 42,
   "metadata": {
    "id": "Ddqp-XVTz9qd"
   },
   "outputs": [
    {
     "data": {
      "text/plain": [
       "Pipeline(steps=[('tf',\n",
       "                 TfidfVectorizer(min_df=5, ngram_range=(1, 2),\n",
       "                                 stop_words='english', sublinear_tf=True)),\n",
       "                ('clf', LinearSVC())])"
      ]
     },
     "execution_count": 42,
     "metadata": {},
     "output_type": "execute_result"
    }
   ],
   "source": [
    "text_clf.fit(X_train, y_train)"
   ]
  },
  {
   "cell_type": "code",
   "execution_count": 43,
   "metadata": {
    "id": "QMIwVs3Mz9qe"
   },
   "outputs": [
    {
     "data": {
      "text/plain": [
       "'Credit reporting'"
      ]
     },
     "execution_count": 43,
     "metadata": {},
     "output_type": "execute_result"
    }
   ],
   "source": [
    "text_clf.predict(['I have outdated information on my credit repor'])[0]"
   ]
  },
  {
   "cell_type": "code",
   "execution_count": 44,
   "metadata": {
    "id": "qznw4ri0xWA0"
   },
   "outputs": [
    {
     "name": "stderr",
     "output_type": "stream",
     "text": [
      "c:\\users\\jastyn\\appdata\\local\\programs\\python\\python39\\lib\\site-packages\\sklearn\\model_selection\\_split.py:666: UserWarning: The least populated class in y has only 1 members, which is less than n_splits=5.\n",
      "  warnings.warn((\"The least populated class in y has only %d\"\n"
     ]
    },
    {
     "name": "stdout",
     "output_type": "stream",
     "text": [
      "0.7936908517350157\n"
     ]
    }
   ],
   "source": [
    "cv_results = cross_val_score(text_clf, \n",
    "                                 X_train, y_train, \n",
    "                                 cv=5,\n",
    "                                 scoring=\"accuracy\",\n",
    "                                 n_jobs=-1)\n",
    "print(np.mean(cv_results))"
   ]
  },
  {
   "cell_type": "code",
   "execution_count": 45,
   "metadata": {
    "id": "ofTRSPWnz9qe"
   },
   "outputs": [],
   "source": [
    "from sklearn.naive_bayes import BernoulliNB"
   ]
  },
  {
   "cell_type": "code",
   "execution_count": 46,
   "metadata": {
    "id": "T6nqDWpSz9qf"
   },
   "outputs": [],
   "source": [
    "mb=BernoulliNB()"
   ]
  },
  {
   "cell_type": "code",
   "execution_count": 47,
   "metadata": {
    "id": "mfG8mv3Bz9qg"
   },
   "outputs": [],
   "source": [
    "text_clf=Pipeline([('tf',TfidfVectorizer(sublinear_tf= True, \n",
    "                       min_df = 5, \n",
    "                       norm= 'l2', \n",
    "                       ngram_range= (1,2), \n",
    "                       stop_words ='english') ),\n",
    "                 ('clf',BernoulliNB())])"
   ]
  },
  {
   "cell_type": "code",
   "execution_count": 48,
   "metadata": {
    "id": "TbSvQdZ1z9qk"
   },
   "outputs": [
    {
     "data": {
      "text/plain": [
       "Pipeline(steps=[('tf',\n",
       "                 TfidfVectorizer(min_df=5, ngram_range=(1, 2),\n",
       "                                 stop_words='english', sublinear_tf=True)),\n",
       "                ('clf', BernoulliNB())])"
      ]
     },
     "execution_count": 48,
     "metadata": {},
     "output_type": "execute_result"
    }
   ],
   "source": [
    "text_clf.fit(X_train, y_train)"
   ]
  },
  {
   "cell_type": "code",
   "execution_count": 49,
   "metadata": {
    "id": "x5BztWuEz9qk"
   },
   "outputs": [
    {
     "data": {
      "text/plain": [
       "'Credit reporting'"
      ]
     },
     "execution_count": 49,
     "metadata": {},
     "output_type": "execute_result"
    }
   ],
   "source": [
    "text_clf.predict(['I have outdated information on my credit repor'])[0]"
   ]
  },
  {
   "cell_type": "code",
   "execution_count": 50,
   "metadata": {
    "id": "-Mx4T62Oz9ql"
   },
   "outputs": [],
   "source": [
    "y_pred=text_clf.predict(X_test)"
   ]
  },
  {
   "cell_type": "code",
   "execution_count": 51,
   "metadata": {
    "id": "zKubUxBPz9ql"
   },
   "outputs": [
    {
     "name": "stdout",
     "output_type": "stream",
     "text": [
      "                                                                              precision    recall  f1-score   support\n",
      "\n",
      "                                                     Bank account or service       0.71      0.55      0.62        44\n",
      "                                                               Consumer Loan       0.50      0.14      0.22        21\n",
      "                                                                 Credit card       0.69      0.60      0.64        72\n",
      "                                                            Credit reporting       0.60      0.92      0.73        91\n",
      "Credit reporting, credit repair services, or other personal consumer reports       0.00      0.00      0.00         2\n",
      "                                                             Debt collection       0.63      0.84      0.72       124\n",
      "                                                             Money transfers       0.00      0.00      0.00        11\n",
      "                                                                    Mortgage       0.87      0.76      0.81       113\n",
      "                                                     Other financial service       0.00      0.00      0.00         1\n",
      "                                                                 Payday loan       0.00      0.00      0.00         8\n",
      "                                                                Prepaid card       0.00      0.00      0.00         8\n",
      "                                                                Student loan       0.91      0.59      0.71        34\n",
      "\n",
      "                                                                    accuracy                           0.69       529\n",
      "                                                                   macro avg       0.41      0.37      0.37       529\n",
      "                                                                weighted avg       0.67      0.69      0.66       529\n",
      "\n"
     ]
    },
    {
     "name": "stderr",
     "output_type": "stream",
     "text": [
      "c:\\users\\jastyn\\appdata\\local\\programs\\python\\python39\\lib\\site-packages\\sklearn\\metrics\\_classification.py:1248: UndefinedMetricWarning: Precision and F-score are ill-defined and being set to 0.0 in labels with no predicted samples. Use `zero_division` parameter to control this behavior.\n",
      "  _warn_prf(average, modifier, msg_start, len(result))\n",
      "c:\\users\\jastyn\\appdata\\local\\programs\\python\\python39\\lib\\site-packages\\sklearn\\metrics\\_classification.py:1248: UndefinedMetricWarning: Precision and F-score are ill-defined and being set to 0.0 in labels with no predicted samples. Use `zero_division` parameter to control this behavior.\n",
      "  _warn_prf(average, modifier, msg_start, len(result))\n",
      "c:\\users\\jastyn\\appdata\\local\\programs\\python\\python39\\lib\\site-packages\\sklearn\\metrics\\_classification.py:1248: UndefinedMetricWarning: Precision and F-score are ill-defined and being set to 0.0 in labels with no predicted samples. Use `zero_division` parameter to control this behavior.\n",
      "  _warn_prf(average, modifier, msg_start, len(result))\n"
     ]
    }
   ],
   "source": [
    "print(metrics.classification_report(y_test,y_pred))"
   ]
  },
  {
   "cell_type": "code",
   "execution_count": 52,
   "metadata": {
    "id": "4QJLftR1xecR"
   },
   "outputs": [
    {
     "name": "stderr",
     "output_type": "stream",
     "text": [
      "c:\\users\\jastyn\\appdata\\local\\programs\\python\\python39\\lib\\site-packages\\sklearn\\model_selection\\_split.py:666: UserWarning: The least populated class in y has only 1 members, which is less than n_splits=5.\n",
      "  warnings.warn((\"The least populated class in y has only %d\"\n"
     ]
    },
    {
     "name": "stdout",
     "output_type": "stream",
     "text": [
      "0.6580441640378549\n"
     ]
    }
   ],
   "source": [
    "cv_results = cross_val_score(text_clf, \n",
    "                                 X_train, y_train, \n",
    "                                 cv=5,\n",
    "                                 scoring=\"accuracy\",\n",
    "                                 n_jobs=-1)\n",
    "print(np.mean(cv_results))"
   ]
  },
  {
   "cell_type": "code",
   "execution_count": 53,
   "metadata": {
    "id": "BTPdHFFIz9ql"
   },
   "outputs": [],
   "source": [
    "from sklearn.tree import DecisionTreeClassifier"
   ]
  },
  {
   "cell_type": "code",
   "execution_count": 54,
   "metadata": {
    "id": "y3X4iFyCz9ql"
   },
   "outputs": [],
   "source": [
    "text_clf=Pipeline([('tf',TfidfVectorizer(sublinear_tf= True, \n",
    "                       min_df = 5, \n",
    "                       norm= 'l2', \n",
    "                       ngram_range= (1,2), \n",
    "                       stop_words ='english') ),\n",
    "                 ('clf',DecisionTreeClassifier())])"
   ]
  },
  {
   "cell_type": "code",
   "execution_count": 55,
   "metadata": {
    "id": "-TfQLUk2z9qm"
   },
   "outputs": [
    {
     "data": {
      "text/plain": [
       "Pipeline(steps=[('tf',\n",
       "                 TfidfVectorizer(min_df=5, ngram_range=(1, 2),\n",
       "                                 stop_words='english', sublinear_tf=True)),\n",
       "                ('clf', DecisionTreeClassifier())])"
      ]
     },
     "execution_count": 55,
     "metadata": {},
     "output_type": "execute_result"
    }
   ],
   "source": [
    "text_clf.fit(X_train, y_train)"
   ]
  },
  {
   "cell_type": "code",
   "execution_count": 56,
   "metadata": {
    "id": "cIE39Z1vz9qm"
   },
   "outputs": [
    {
     "data": {
      "text/plain": [
       "'Debt collection'"
      ]
     },
     "execution_count": 56,
     "metadata": {},
     "output_type": "execute_result"
    }
   ],
   "source": [
    "text_clf.predict(['I have outdated information on my credit repor'])[0]"
   ]
  },
  {
   "cell_type": "code",
   "execution_count": 57,
   "metadata": {
    "id": "RAxI3r15z9qm"
   },
   "outputs": [],
   "source": [
    "y_pred=text_clf.predict(X_test)"
   ]
  },
  {
   "cell_type": "code",
   "execution_count": 58,
   "metadata": {
    "id": "xGpnHHz-z9qm"
   },
   "outputs": [
    {
     "name": "stdout",
     "output_type": "stream",
     "text": [
      "                                                                              precision    recall  f1-score   support\n",
      "\n",
      "                                                     Bank account or service       0.36      0.55      0.43        44\n",
      "                                                               Consumer Loan       0.35      0.29      0.32        21\n",
      "                                                                 Credit card       0.69      0.69      0.69        72\n",
      "                                                            Credit reporting       0.72      0.74      0.73        91\n",
      "Credit reporting, credit repair services, or other personal consumer reports       0.00      0.00      0.00         2\n",
      "                                                             Debt collection       0.71      0.69      0.70       124\n",
      "                                                             Money transfers       0.00      0.00      0.00        11\n",
      "                                                                    Mortgage       0.79      0.82      0.81       113\n",
      "                                                     Other financial service       0.00      0.00      0.00         1\n",
      "                                                                 Payday loan       0.22      0.25      0.24         8\n",
      "                                                                Prepaid card       1.00      0.12      0.22         8\n",
      "                                                                Student loan       0.61      0.56      0.58        34\n",
      "\n",
      "                                                                    accuracy                           0.66       529\n",
      "                                                                   macro avg       0.46      0.39      0.39       529\n",
      "                                                                weighted avg       0.66      0.66      0.65       529\n",
      "\n"
     ]
    },
    {
     "name": "stderr",
     "output_type": "stream",
     "text": [
      "c:\\users\\jastyn\\appdata\\local\\programs\\python\\python39\\lib\\site-packages\\sklearn\\metrics\\_classification.py:1248: UndefinedMetricWarning: Precision and F-score are ill-defined and being set to 0.0 in labels with no predicted samples. Use `zero_division` parameter to control this behavior.\n",
      "  _warn_prf(average, modifier, msg_start, len(result))\n",
      "c:\\users\\jastyn\\appdata\\local\\programs\\python\\python39\\lib\\site-packages\\sklearn\\metrics\\_classification.py:1248: UndefinedMetricWarning: Precision and F-score are ill-defined and being set to 0.0 in labels with no predicted samples. Use `zero_division` parameter to control this behavior.\n",
      "  _warn_prf(average, modifier, msg_start, len(result))\n",
      "c:\\users\\jastyn\\appdata\\local\\programs\\python\\python39\\lib\\site-packages\\sklearn\\metrics\\_classification.py:1248: UndefinedMetricWarning: Precision and F-score are ill-defined and being set to 0.0 in labels with no predicted samples. Use `zero_division` parameter to control this behavior.\n",
      "  _warn_prf(average, modifier, msg_start, len(result))\n"
     ]
    }
   ],
   "source": [
    "print(metrics.classification_report(y_test,y_pred))"
   ]
  },
  {
   "cell_type": "code",
   "execution_count": 59,
   "metadata": {
    "id": "W_5Frbfyxl5J"
   },
   "outputs": [
    {
     "name": "stderr",
     "output_type": "stream",
     "text": [
      "c:\\users\\jastyn\\appdata\\local\\programs\\python\\python39\\lib\\site-packages\\sklearn\\model_selection\\_split.py:666: UserWarning: The least populated class in y has only 1 members, which is less than n_splits=5.\n",
      "  warnings.warn((\"The least populated class in y has only %d\"\n"
     ]
    },
    {
     "name": "stdout",
     "output_type": "stream",
     "text": [
      "0.6145110410094637\n"
     ]
    }
   ],
   "source": [
    "cv_results = cross_val_score(text_clf, \n",
    "                                 X_train, y_train, \n",
    "                                 cv=5,\n",
    "                                 scoring=\"accuracy\",\n",
    "                                 n_jobs=-1)\n",
    "print(np.mean(cv_results))"
   ]
  },
  {
   "cell_type": "code",
   "execution_count": 60,
   "metadata": {
    "id": "KorjEJue-Sti"
   },
   "outputs": [
    {
     "name": "stdout",
     "output_type": "stream",
     "text": [
      "Collecting catboost"
     ]
    },
    {
     "name": "stderr",
     "output_type": "stream",
     "text": [
      "ERROR: Exception:\n",
      "Traceback (most recent call last):\n",
      "  File \"c:\\users\\jastyn\\appdata\\local\\programs\\python\\python39\\lib\\site-packages\\pip\\_vendor\\urllib3\\response.py\", line 438, in _error_catcher\n",
      "    yield\n",
      "  File \"c:\\users\\jastyn\\appdata\\local\\programs\\python\\python39\\lib\\site-packages\\pip\\_vendor\\urllib3\\response.py\", line 519, in read\n",
      "    data = self._fp.read(amt) if not fp_closed else b\"\"\n",
      "  File \"c:\\users\\jastyn\\appdata\\local\\programs\\python\\python39\\lib\\site-packages\\pip\\_vendor\\cachecontrol\\filewrapper.py\", line 62, in read\n",
      "    data = self.__fp.read(amt)\n"
     ]
    },
    {
     "name": "stdout",
     "output_type": "stream",
     "text": [
      "\n",
      "  Downloading catboost-0.26.1-cp39-none-win_amd64.whl (67.9 MB)\n"
     ]
    },
    {
     "name": "stderr",
     "output_type": "stream",
     "text": [
      "  File \"c:\\users\\jastyn\\appdata\\local\\programs\\python\\python39\\lib\\http\\client.py\", line 459, in read\n",
      "    n = self.readinto(b)\n",
      "  File \"c:\\users\\jastyn\\appdata\\local\\programs\\python\\python39\\lib\\http\\client.py\", line 503, in readinto\n",
      "    n = self.fp.readinto(b)\n",
      "  File \"c:\\users\\jastyn\\appdata\\local\\programs\\python\\python39\\lib\\socket.py\", line 704, in readinto\n",
      "    return self._sock.recv_into(b)\n",
      "  File \"c:\\users\\jastyn\\appdata\\local\\programs\\python\\python39\\lib\\ssl.py\", line 1241, in recv_into\n",
      "    return self.read(nbytes, buffer)\n",
      "  File \"c:\\users\\jastyn\\appdata\\local\\programs\\python\\python39\\lib\\ssl.py\", line 1099, in read\n",
      "    return self._sslobj.read(len, buffer)\n",
      "socket.timeout: The read operation timed out\n",
      "\n",
      "During handling of the above exception, another exception occurred:\n",
      "\n",
      "Traceback (most recent call last):\n",
      "  File \"c:\\users\\jastyn\\appdata\\local\\programs\\python\\python39\\lib\\site-packages\\pip\\_internal\\cli\\base_command.py\", line 173, in _main\n",
      "    status = self.run(options, args)\n",
      "  File \"c:\\users\\jastyn\\appdata\\local\\programs\\python\\python39\\lib\\site-packages\\pip\\_internal\\cli\\req_command.py\", line 203, in wrapper\n",
      "    return func(self, options, args)\n",
      "  File \"c:\\users\\jastyn\\appdata\\local\\programs\\python\\python39\\lib\\site-packages\\pip\\_internal\\commands\\install.py\", line 315, in run\n",
      "    requirement_set = resolver.resolve(\n",
      "  File \"c:\\users\\jastyn\\appdata\\local\\programs\\python\\python39\\lib\\site-packages\\pip\\_internal\\resolution\\resolvelib\\resolver.py\", line 94, in resolve\n",
      "    result = self._result = resolver.resolve(\n",
      "  File \"c:\\users\\jastyn\\appdata\\local\\programs\\python\\python39\\lib\\site-packages\\pip\\_vendor\\resolvelib\\resolvers.py\", line 472, in resolve\n",
      "    state = resolution.resolve(requirements, max_rounds=max_rounds)\n",
      "  File \"c:\\users\\jastyn\\appdata\\local\\programs\\python\\python39\\lib\\site-packages\\pip\\_vendor\\resolvelib\\resolvers.py\", line 341, in resolve\n",
      "    self._add_to_criteria(self.state.criteria, r, parent=None)\n",
      "  File \"c:\\users\\jastyn\\appdata\\local\\programs\\python\\python39\\lib\\site-packages\\pip\\_vendor\\resolvelib\\resolvers.py\", line 172, in _add_to_criteria\n",
      "    if not criterion.candidates:\n",
      "  File \"c:\\users\\jastyn\\appdata\\local\\programs\\python\\python39\\lib\\site-packages\\pip\\_vendor\\resolvelib\\structs.py\", line 151, in __bool__\n",
      "    return bool(self._sequence)\n",
      "  File \"c:\\users\\jastyn\\appdata\\local\\programs\\python\\python39\\lib\\site-packages\\pip\\_internal\\resolution\\resolvelib\\found_candidates.py\", line 140, in __bool__\n",
      "    return any(self)\n",
      "  File \"c:\\users\\jastyn\\appdata\\local\\programs\\python\\python39\\lib\\site-packages\\pip\\_internal\\resolution\\resolvelib\\found_candidates.py\", line 128, in <genexpr>\n",
      "    return (c for c in iterator if id(c) not in self._incompatible_ids)\n",
      "  File \"c:\\users\\jastyn\\appdata\\local\\programs\\python\\python39\\lib\\site-packages\\pip\\_internal\\resolution\\resolvelib\\found_candidates.py\", line 32, in _iter_built\n",
      "    candidate = func()\n",
      "  File \"c:\\users\\jastyn\\appdata\\local\\programs\\python\\python39\\lib\\site-packages\\pip\\_internal\\resolution\\resolvelib\\factory.py\", line 204, in _make_candidate_from_link\n",
      "    self._link_candidate_cache[link] = LinkCandidate(\n",
      "  File \"c:\\users\\jastyn\\appdata\\local\\programs\\python\\python39\\lib\\site-packages\\pip\\_internal\\resolution\\resolvelib\\candidates.py\", line 295, in __init__\n",
      "    super().__init__(\n",
      "  File \"c:\\users\\jastyn\\appdata\\local\\programs\\python\\python39\\lib\\site-packages\\pip\\_internal\\resolution\\resolvelib\\candidates.py\", line 156, in __init__\n",
      "    self.dist = self._prepare()\n",
      "  File \"c:\\users\\jastyn\\appdata\\local\\programs\\python\\python39\\lib\\site-packages\\pip\\_internal\\resolution\\resolvelib\\candidates.py\", line 227, in _prepare\n",
      "    dist = self._prepare_distribution()\n",
      "  File \"c:\\users\\jastyn\\appdata\\local\\programs\\python\\python39\\lib\\site-packages\\pip\\_internal\\resolution\\resolvelib\\candidates.py\", line 305, in _prepare_distribution\n",
      "    return self._factory.preparer.prepare_linked_requirement(\n",
      "  File \"c:\\users\\jastyn\\appdata\\local\\programs\\python\\python39\\lib\\site-packages\\pip\\_internal\\operations\\prepare.py\", line 508, in prepare_linked_requirement\n",
      "    return self._prepare_linked_requirement(req, parallel_builds)\n",
      "  File \"c:\\users\\jastyn\\appdata\\local\\programs\\python\\python39\\lib\\site-packages\\pip\\_internal\\operations\\prepare.py\", line 550, in _prepare_linked_requirement\n",
      "    local_file = unpack_url(\n",
      "  File \"c:\\users\\jastyn\\appdata\\local\\programs\\python\\python39\\lib\\site-packages\\pip\\_internal\\operations\\prepare.py\", line 239, in unpack_url\n",
      "    file = get_http_url(\n",
      "  File \"c:\\users\\jastyn\\appdata\\local\\programs\\python\\python39\\lib\\site-packages\\pip\\_internal\\operations\\prepare.py\", line 102, in get_http_url\n",
      "    from_path, content_type = download(link, temp_dir.path)\n",
      "  File \"c:\\users\\jastyn\\appdata\\local\\programs\\python\\python39\\lib\\site-packages\\pip\\_internal\\network\\download.py\", line 145, in __call__\n",
      "    for chunk in chunks:\n",
      "  File \"c:\\users\\jastyn\\appdata\\local\\programs\\python\\python39\\lib\\site-packages\\pip\\_internal\\cli\\progress_bars.py\", line 144, in iter\n",
      "    for x in it:\n",
      "  File \"c:\\users\\jastyn\\appdata\\local\\programs\\python\\python39\\lib\\site-packages\\pip\\_internal\\network\\utils.py\", line 63, in response_chunks\n",
      "    for chunk in response.raw.stream(\n",
      "  File \"c:\\users\\jastyn\\appdata\\local\\programs\\python\\python39\\lib\\site-packages\\pip\\_vendor\\urllib3\\response.py\", line 576, in stream\n",
      "    data = self.read(amt=amt, decode_content=decode_content)\n",
      "  File \"c:\\users\\jastyn\\appdata\\local\\programs\\python\\python39\\lib\\site-packages\\pip\\_vendor\\urllib3\\response.py\", line 541, in read\n",
      "    raise IncompleteRead(self._fp_bytes_read, self.length_remaining)\n",
      "  File \"c:\\users\\jastyn\\appdata\\local\\programs\\python\\python39\\lib\\contextlib.py\", line 135, in __exit__\n",
      "    self.gen.throw(type, value, traceback)\n",
      "  File \"c:\\users\\jastyn\\appdata\\local\\programs\\python\\python39\\lib\\site-packages\\pip\\_vendor\\urllib3\\response.py\", line 443, in _error_catcher\n",
      "    raise ReadTimeoutError(self._pool, None, \"Read timed out.\")\n",
      "pip._vendor.urllib3.exceptions.ReadTimeoutError: HTTPSConnectionPool(host='files.pythonhosted.org', port=443): Read timed out.\n"
     ]
    }
   ],
   "source": [
    "!pip install catboost\n"
   ]
  },
  {
   "cell_type": "code",
   "execution_count": 62,
   "metadata": {
    "id": "CkjUijlFz9qm"
   },
   "outputs": [],
   "source": [
    "from catboost import CatBoostClassifier"
   ]
  },
  {
   "cell_type": "code",
   "execution_count": 63,
   "metadata": {
    "id": "30ifVE9Gz9qn"
   },
   "outputs": [],
   "source": [
    "text_clf=Pipeline([('tf',TfidfVectorizer(sublinear_tf= True, \n",
    "                       min_df = 5, \n",
    "                       norm= 'l2', \n",
    "                       ngram_range= (1,2), \n",
    "                       stop_words ='english') ),\n",
    "                 ('clf',CatBoostClassifier())])"
   ]
  },
  {
   "cell_type": "code",
   "execution_count": 66,
   "metadata": {
    "id": "O37ENgZEz9qn"
   },
   "outputs": [
    {
     "name": "stderr",
     "output_type": "stream",
     "text": [
      "Custom logger is already specified. Specify more than one logger at same time is not thread safe."
     ]
    },
    {
     "name": "stdout",
     "output_type": "stream",
     "text": [
      "Learning rate set to 0.081007\n",
      "0:\tlearn: 2.4854640\ttotal: 3.23s\tremaining: 53m 42s\n",
      "1:\tlearn: 2.2831591\ttotal: 6.65s\tremaining: 55m 18s\n",
      "2:\tlearn: 2.1564614\ttotal: 10.6s\tremaining: 58m 54s\n",
      "3:\tlearn: 2.0605129\ttotal: 14.3s\tremaining: 59m 21s\n",
      "4:\tlearn: 1.9462300\ttotal: 17.9s\tremaining: 59m 19s\n",
      "5:\tlearn: 1.8610484\ttotal: 21.6s\tremaining: 59m 37s\n",
      "6:\tlearn: 1.7890315\ttotal: 25.1s\tremaining: 59m 15s\n",
      "7:\tlearn: 1.7248507\ttotal: 29.2s\tremaining: 1h 17s\n",
      "8:\tlearn: 1.6704831\ttotal: 33.4s\tremaining: 1h 1m 19s\n",
      "9:\tlearn: 1.6290230\ttotal: 37.7s\tremaining: 1h 2m 16s\n",
      "10:\tlearn: 1.5851092\ttotal: 42s\tremaining: 1h 2m 56s\n",
      "11:\tlearn: 1.5387648\ttotal: 46.3s\tremaining: 1h 3m 34s\n",
      "12:\tlearn: 1.5082813\ttotal: 50.5s\tremaining: 1h 3m 54s\n",
      "13:\tlearn: 1.4703662\ttotal: 54.2s\tremaining: 1h 3m 40s\n",
      "14:\tlearn: 1.4445402\ttotal: 58.3s\tremaining: 1h 3m 45s\n",
      "15:\tlearn: 1.4213383\ttotal: 1m 2s\tremaining: 1h 3m 47s\n",
      "16:\tlearn: 1.3953513\ttotal: 1m 6s\tremaining: 1h 3m 53s\n",
      "17:\tlearn: 1.3735164\ttotal: 1m 10s\tremaining: 1h 3m 57s\n",
      "18:\tlearn: 1.3509443\ttotal: 1m 14s\tremaining: 1h 3m 54s\n",
      "19:\tlearn: 1.3306779\ttotal: 1m 18s\tremaining: 1h 3m 52s\n",
      "20:\tlearn: 1.3107340\ttotal: 1m 22s\tremaining: 1h 4m 5s\n",
      "21:\tlearn: 1.2888844\ttotal: 1m 26s\tremaining: 1h 4m 3s\n",
      "22:\tlearn: 1.2643441\ttotal: 1m 30s\tremaining: 1h 4m 1s\n",
      "23:\tlearn: 1.2482685\ttotal: 1m 34s\tremaining: 1h 3m 59s\n",
      "24:\tlearn: 1.2271506\ttotal: 1m 38s\tremaining: 1h 3m 59s\n",
      "25:\tlearn: 1.2063541\ttotal: 1m 42s\tremaining: 1h 4m 5s\n",
      "26:\tlearn: 1.1912904\ttotal: 1m 46s\tremaining: 1h 4m 2s\n",
      "27:\tlearn: 1.1760266\ttotal: 1m 50s\tremaining: 1h 3m 57s\n",
      "28:\tlearn: 1.1648586\ttotal: 1m 54s\tremaining: 1h 4m 8s\n",
      "29:\tlearn: 1.1534765\ttotal: 1m 59s\tremaining: 1h 4m 14s\n",
      "30:\tlearn: 1.1436977\ttotal: 2m 3s\tremaining: 1h 4m 13s\n",
      "31:\tlearn: 1.1350923\ttotal: 2m 7s\tremaining: 1h 4m 16s\n",
      "32:\tlearn: 1.1242399\ttotal: 2m 11s\tremaining: 1h 4m 18s\n",
      "33:\tlearn: 1.1159885\ttotal: 2m 15s\tremaining: 1h 4m 11s\n",
      "34:\tlearn: 1.1079175\ttotal: 2m 19s\tremaining: 1h 4m 9s\n",
      "35:\tlearn: 1.0991047\ttotal: 2m 23s\tremaining: 1h 4m 13s\n",
      "36:\tlearn: 1.0928513\ttotal: 2m 28s\tremaining: 1h 4m 12s\n",
      "37:\tlearn: 1.0863576\ttotal: 2m 31s\tremaining: 1h 4m 6s\n",
      "38:\tlearn: 1.0783464\ttotal: 2m 35s\tremaining: 1h 4m 2s\n",
      "39:\tlearn: 1.0716513\ttotal: 2m 40s\tremaining: 1h 4m 3s\n",
      "40:\tlearn: 1.0648453\ttotal: 2m 44s\tremaining: 1h 3m 59s\n",
      "41:\tlearn: 1.0589708\ttotal: 2m 48s\tremaining: 1h 3m 54s\n",
      "42:\tlearn: 1.0541505\ttotal: 2m 52s\tremaining: 1h 3m 58s\n",
      "43:\tlearn: 1.0443814\ttotal: 2m 56s\tremaining: 1h 4m 2s\n",
      "44:\tlearn: 1.0367624\ttotal: 3m\tremaining: 1h 4m\n",
      "45:\tlearn: 1.0303077\ttotal: 3m 5s\tremaining: 1h 3m 58s\n",
      "46:\tlearn: 1.0230793\ttotal: 3m 9s\tremaining: 1h 3m 52s\n",
      "47:\tlearn: 1.0176074\ttotal: 3m 12s\tremaining: 1h 3m 47s\n",
      "48:\tlearn: 1.0143456\ttotal: 3m 17s\tremaining: 1h 3m 43s\n",
      "49:\tlearn: 1.0094720\ttotal: 3m 21s\tremaining: 1h 3m 39s\n",
      "50:\tlearn: 1.0046385\ttotal: 3m 25s\tremaining: 1h 3m 42s\n",
      "51:\tlearn: 1.0017752\ttotal: 3m 29s\tremaining: 1h 3m 36s\n",
      "52:\tlearn: 0.9984884\ttotal: 3m 33s\tremaining: 1h 3m 32s\n",
      "53:\tlearn: 0.9950373\ttotal: 3m 37s\tremaining: 1h 3m 26s\n",
      "54:\tlearn: 0.9901153\ttotal: 3m 41s\tremaining: 1h 3m 19s\n",
      "55:\tlearn: 0.9866299\ttotal: 3m 45s\tremaining: 1h 3m 15s\n",
      "56:\tlearn: 0.9843810\ttotal: 3m 49s\tremaining: 1h 3m 10s\n",
      "57:\tlearn: 0.9827648\ttotal: 3m 53s\tremaining: 1h 3m 7s\n",
      "58:\tlearn: 0.9809374\ttotal: 3m 57s\tremaining: 1h 3m 10s\n",
      "59:\tlearn: 0.9773165\ttotal: 4m 1s\tremaining: 1h 3m 10s\n",
      "60:\tlearn: 0.9719917\ttotal: 4m 6s\tremaining: 1h 3m 8s\n",
      "61:\tlearn: 0.9700710\ttotal: 4m 9s\tremaining: 1h 3m 1s\n",
      "62:\tlearn: 0.9645634\ttotal: 4m 13s\tremaining: 1h 2m 57s\n",
      "63:\tlearn: 0.9608152\ttotal: 4m 18s\tremaining: 1h 2m 53s\n",
      "64:\tlearn: 0.9569786\ttotal: 4m 22s\tremaining: 1h 2m 49s\n",
      "65:\tlearn: 0.9537289\ttotal: 4m 26s\tremaining: 1h 2m 46s\n",
      "66:\tlearn: 0.9510569\ttotal: 4m 30s\tremaining: 1h 2m 42s\n",
      "67:\tlearn: 0.9483097\ttotal: 4m 34s\tremaining: 1h 2m 35s\n",
      "68:\tlearn: 0.9425183\ttotal: 4m 37s\tremaining: 1h 2m 22s\n",
      "69:\tlearn: 0.9361814\ttotal: 4m 41s\tremaining: 1h 2m 13s\n",
      "70:\tlearn: 0.9323581\ttotal: 4m 45s\tremaining: 1h 2m 15s\n",
      "71:\tlearn: 0.9283958\ttotal: 4m 49s\tremaining: 1h 2m 15s\n",
      "72:\tlearn: 0.9262238\ttotal: 4m 53s\tremaining: 1h 2m 11s\n",
      "73:\tlearn: 0.9190218\ttotal: 4m 57s\tremaining: 1h 2m 5s\n",
      "74:\tlearn: 0.9157283\ttotal: 5m 2s\tremaining: 1h 2m 6s\n",
      "75:\tlearn: 0.9135173\ttotal: 5m 6s\tremaining: 1h 2m 10s\n",
      "76:\tlearn: 0.9119289\ttotal: 5m 11s\tremaining: 1h 2m 18s\n",
      "77:\tlearn: 0.9090277\ttotal: 5m 16s\tremaining: 1h 2m 24s\n",
      "78:\tlearn: 0.9048167\ttotal: 5m 21s\tremaining: 1h 2m 27s\n",
      "79:\tlearn: 0.9001523\ttotal: 5m 26s\tremaining: 1h 2m 30s\n",
      "80:\tlearn: 0.8968576\ttotal: 5m 30s\tremaining: 1h 2m 31s\n",
      "81:\tlearn: 0.8933656\ttotal: 5m 35s\tremaining: 1h 2m 36s\n",
      "82:\tlearn: 0.8899386\ttotal: 5m 39s\tremaining: 1h 2m 34s\n",
      "83:\tlearn: 0.8872973\ttotal: 5m 44s\tremaining: 1h 2m 33s\n",
      "84:\tlearn: 0.8840036\ttotal: 5m 47s\tremaining: 1h 2m 24s\n",
      "85:\tlearn: 0.8817108\ttotal: 5m 51s\tremaining: 1h 2m 18s\n",
      "86:\tlearn: 0.8787014\ttotal: 5m 55s\tremaining: 1h 2m 10s\n",
      "87:\tlearn: 0.8758992\ttotal: 5m 59s\tremaining: 1h 2m 2s\n",
      "88:\tlearn: 0.8713203\ttotal: 6m 3s\tremaining: 1h 2m 2s\n",
      "89:\tlearn: 0.8674365\ttotal: 6m 7s\tremaining: 1h 1m 56s\n",
      "90:\tlearn: 0.8641659\ttotal: 6m 11s\tremaining: 1h 1m 48s\n",
      "91:\tlearn: 0.8614866\ttotal: 6m 15s\tremaining: 1h 1m 43s\n",
      "92:\tlearn: 0.8607550\ttotal: 6m 19s\tremaining: 1h 1m 38s\n",
      "93:\tlearn: 0.8579460\ttotal: 6m 23s\tremaining: 1h 1m 32s\n",
      "94:\tlearn: 0.8572016\ttotal: 6m 26s\tremaining: 1h 1m 22s\n",
      "95:\tlearn: 0.8544838\ttotal: 6m 30s\tremaining: 1h 1m 12s\n",
      "96:\tlearn: 0.8515226\ttotal: 6m 33s\tremaining: 1h 1m 7s\n",
      "97:\tlearn: 0.8496996\ttotal: 6m 38s\tremaining: 1h 1m 3s\n",
      "98:\tlearn: 0.8441627\ttotal: 6m 41s\tremaining: 1h 55s\n",
      "99:\tlearn: 0.8421451\ttotal: 6m 45s\tremaining: 1h 52s\n",
      "100:\tlearn: 0.8408630\ttotal: 6m 49s\tremaining: 1h 49s\n",
      "101:\tlearn: 0.8394855\ttotal: 6m 55s\tremaining: 1h 54s\n",
      "102:\tlearn: 0.8372623\ttotal: 6m 59s\tremaining: 1h 55s\n",
      "103:\tlearn: 0.8360841\ttotal: 7m 4s\tremaining: 1h 59s\n",
      "104:\tlearn: 0.8347154\ttotal: 7m 9s\tremaining: 1h 58s\n",
      "105:\tlearn: 0.8313423\ttotal: 7m 13s\tremaining: 1h 59s\n",
      "106:\tlearn: 0.8268553\ttotal: 7m 18s\tremaining: 1h 1m 2s\n",
      "107:\tlearn: 0.8241840\ttotal: 7m 23s\tremaining: 1h 1m 5s\n",
      "108:\tlearn: 0.8220517\ttotal: 7m 27s\tremaining: 1h 1m 2s\n",
      "109:\tlearn: 0.8206820\ttotal: 7m 32s\tremaining: 1h 1m\n",
      "110:\tlearn: 0.8188245\ttotal: 7m 37s\tremaining: 1h 1m 4s\n",
      "111:\tlearn: 0.8165222\ttotal: 7m 42s\tremaining: 1h 1m 4s\n",
      "112:\tlearn: 0.8135050\ttotal: 7m 47s\tremaining: 1h 1m 12s\n",
      "113:\tlearn: 0.8111247\ttotal: 7m 52s\tremaining: 1h 1m 8s\n",
      "114:\tlearn: 0.8107347\ttotal: 7m 56s\tremaining: 1h 1m 4s\n",
      "115:\tlearn: 0.8099549\ttotal: 7m 59s\tremaining: 1h 55s\n",
      "116:\tlearn: 0.8075430\ttotal: 8m 4s\tremaining: 1h 55s\n",
      "117:\tlearn: 0.8050018\ttotal: 8m 9s\tremaining: 1h 56s\n",
      "118:\tlearn: 0.8033704\ttotal: 8m 14s\tremaining: 1h 1m 3s\n",
      "119:\tlearn: 0.8018497\ttotal: 8m 21s\tremaining: 1h 1m 18s\n",
      "120:\tlearn: 0.8001654\ttotal: 8m 30s\tremaining: 1h 1m 45s\n",
      "121:\tlearn: 0.7994796\ttotal: 8m 36s\tremaining: 1h 2m\n",
      "122:\tlearn: 0.7973179\ttotal: 8m 44s\tremaining: 1h 2m 17s\n",
      "123:\tlearn: 0.7958839\ttotal: 8m 50s\tremaining: 1h 2m 29s\n",
      "124:\tlearn: 0.7948636\ttotal: 8m 57s\tremaining: 1h 2m 45s\n",
      "125:\tlearn: 0.7933385\ttotal: 9m 3s\tremaining: 1h 2m 51s\n",
      "126:\tlearn: 0.7927987\ttotal: 9m 10s\tremaining: 1h 3m 5s\n",
      "127:\tlearn: 0.7899772\ttotal: 9m 16s\tremaining: 1h 3m 13s\n",
      "128:\tlearn: 0.7892504\ttotal: 9m 23s\tremaining: 1h 3m 26s\n",
      "129:\tlearn: 0.7877333\ttotal: 9m 30s\tremaining: 1h 3m 38s\n",
      "130:\tlearn: 0.7869179\ttotal: 9m 37s\tremaining: 1h 3m 52s\n",
      "131:\tlearn: 0.7848792\ttotal: 9m 44s\tremaining: 1h 4m\n",
      "132:\tlearn: 0.7839392\ttotal: 9m 49s\tremaining: 1h 4m 5s\n",
      "133:\tlearn: 0.7827618\ttotal: 9m 56s\tremaining: 1h 4m 16s\n",
      "134:\tlearn: 0.7805511\ttotal: 10m 2s\tremaining: 1h 4m 21s\n",
      "135:\tlearn: 0.7778289\ttotal: 10m 10s\tremaining: 1h 4m 40s\n",
      "136:\tlearn: 0.7770423\ttotal: 10m 20s\tremaining: 1h 5m 10s\n",
      "137:\tlearn: 0.7744665\ttotal: 10m 28s\tremaining: 1h 5m 25s\n",
      "138:\tlearn: 0.7721353\ttotal: 10m 34s\tremaining: 1h 5m 33s\n",
      "139:\tlearn: 0.7707321\ttotal: 10m 40s\tremaining: 1h 5m 32s\n",
      "140:\tlearn: 0.7691956\ttotal: 10m 45s\tremaining: 1h 5m 31s\n",
      "141:\tlearn: 0.7678478\ttotal: 10m 52s\tremaining: 1h 5m 44s\n",
      "142:\tlearn: 0.7667817\ttotal: 11m\tremaining: 1h 5m 58s\n",
      "143:\tlearn: 0.7661838\ttotal: 11m 8s\tremaining: 1h 6m 13s\n",
      "144:\tlearn: 0.7638730\ttotal: 11m 16s\tremaining: 1h 6m 30s\n",
      "145:\tlearn: 0.7611925\ttotal: 11m 22s\tremaining: 1h 6m 34s\n",
      "146:\tlearn: 0.7607908\ttotal: 11m 28s\tremaining: 1h 6m 33s\n",
      "147:\tlearn: 0.7598458\ttotal: 11m 35s\tremaining: 1h 6m 42s\n"
     ]
    },
    {
     "name": "stdout",
     "output_type": "stream",
     "text": [
      "148:\tlearn: 0.7585279\ttotal: 11m 44s\tremaining: 1h 7m 4s\n",
      "149:\tlearn: 0.7570061\ttotal: 11m 51s\tremaining: 1h 7m 9s\n",
      "150:\tlearn: 0.7564146\ttotal: 11m 58s\tremaining: 1h 7m 20s\n",
      "151:\tlearn: 0.7544475\ttotal: 12m 4s\tremaining: 1h 7m 24s\n",
      "152:\tlearn: 0.7537299\ttotal: 12m 11s\tremaining: 1h 7m 31s\n",
      "153:\tlearn: 0.7530293\ttotal: 12m 20s\tremaining: 1h 7m 49s\n",
      "154:\tlearn: 0.7525985\ttotal: 12m 28s\tremaining: 1h 8m\n",
      "155:\tlearn: 0.7510070\ttotal: 12m 35s\tremaining: 1h 8m 6s\n",
      "156:\tlearn: 0.7498981\ttotal: 12m 44s\tremaining: 1h 8m 23s\n",
      "157:\tlearn: 0.7489539\ttotal: 12m 52s\tremaining: 1h 8m 36s\n",
      "158:\tlearn: 0.7481149\ttotal: 13m\tremaining: 1h 8m 48s\n",
      "159:\tlearn: 0.7451465\ttotal: 13m 9s\tremaining: 1h 9m 5s\n",
      "160:\tlearn: 0.7444409\ttotal: 13m 15s\tremaining: 1h 9m 5s\n",
      "161:\tlearn: 0.7428568\ttotal: 13m 21s\tremaining: 1h 9m 4s\n",
      "162:\tlearn: 0.7417085\ttotal: 13m 27s\tremaining: 1h 9m 6s\n",
      "163:\tlearn: 0.7412448\ttotal: 13m 33s\tremaining: 1h 9m 8s\n",
      "164:\tlearn: 0.7378078\ttotal: 13m 40s\tremaining: 1h 9m 10s\n",
      "165:\tlearn: 0.7374767\ttotal: 13m 46s\tremaining: 1h 9m 13s\n",
      "166:\tlearn: 0.7369168\ttotal: 13m 52s\tremaining: 1h 9m 12s\n",
      "167:\tlearn: 0.7361064\ttotal: 13m 58s\tremaining: 1h 9m 13s\n",
      "168:\tlearn: 0.7351648\ttotal: 14m 6s\tremaining: 1h 9m 22s\n",
      "169:\tlearn: 0.7334652\ttotal: 14m 11s\tremaining: 1h 9m 17s\n",
      "170:\tlearn: 0.7331014\ttotal: 14m 16s\tremaining: 1h 9m 12s\n",
      "171:\tlearn: 0.7321712\ttotal: 14m 21s\tremaining: 1h 9m 5s\n",
      "172:\tlearn: 0.7308025\ttotal: 14m 26s\tremaining: 1h 9m 2s\n",
      "173:\tlearn: 0.7299474\ttotal: 14m 31s\tremaining: 1h 8m 57s\n",
      "174:\tlearn: 0.7296031\ttotal: 14m 37s\tremaining: 1h 8m 55s\n",
      "175:\tlearn: 0.7282592\ttotal: 14m 42s\tremaining: 1h 8m 50s\n",
      "176:\tlearn: 0.7278057\ttotal: 14m 46s\tremaining: 1h 8m 42s\n",
      "177:\tlearn: 0.7273493\ttotal: 14m 50s\tremaining: 1h 8m 34s\n",
      "178:\tlearn: 0.7261421\ttotal: 14m 56s\tremaining: 1h 8m 30s\n",
      "179:\tlearn: 0.7250592\ttotal: 15m\tremaining: 1h 8m 21s\n",
      "180:\tlearn: 0.7246261\ttotal: 15m 5s\tremaining: 1h 8m 16s\n",
      "181:\tlearn: 0.7235220\ttotal: 15m 11s\tremaining: 1h 8m 17s\n",
      "182:\tlearn: 0.7228321\ttotal: 15m 17s\tremaining: 1h 8m 17s\n",
      "183:\tlearn: 0.7212818\ttotal: 15m 22s\tremaining: 1h 8m 11s\n",
      "184:\tlearn: 0.7206582\ttotal: 15m 26s\tremaining: 1h 8m 2s\n",
      "185:\tlearn: 0.7201708\ttotal: 15m 30s\tremaining: 1h 7m 52s\n",
      "186:\tlearn: 0.7189709\ttotal: 15m 34s\tremaining: 1h 7m 43s\n",
      "187:\tlearn: 0.7176364\ttotal: 15m 39s\tremaining: 1h 7m 37s\n",
      "188:\tlearn: 0.7170201\ttotal: 15m 45s\tremaining: 1h 7m 36s\n",
      "189:\tlearn: 0.7152001\ttotal: 15m 49s\tremaining: 1h 7m 29s\n",
      "190:\tlearn: 0.7143043\ttotal: 15m 55s\tremaining: 1h 7m 26s\n",
      "191:\tlearn: 0.7129504\ttotal: 16m 1s\tremaining: 1h 7m 26s\n",
      "192:\tlearn: 0.7123692\ttotal: 16m 8s\tremaining: 1h 7m 31s\n",
      "193:\tlearn: 0.7118066\ttotal: 16m 16s\tremaining: 1h 7m 38s\n",
      "194:\tlearn: 0.7101444\ttotal: 16m 24s\tremaining: 1h 7m 42s\n",
      "195:\tlearn: 0.7097543\ttotal: 16m 30s\tremaining: 1h 7m 44s\n",
      "196:\tlearn: 0.7084416\ttotal: 16m 37s\tremaining: 1h 7m 44s\n",
      "197:\tlearn: 0.7079530\ttotal: 16m 43s\tremaining: 1h 7m 42s\n",
      "198:\tlearn: 0.7072096\ttotal: 16m 49s\tremaining: 1h 7m 41s\n",
      "199:\tlearn: 0.7069073\ttotal: 16m 54s\tremaining: 1h 7m 38s\n",
      "200:\tlearn: 0.7066389\ttotal: 16m 59s\tremaining: 1h 7m 31s\n",
      "201:\tlearn: 0.7062889\ttotal: 17m 6s\tremaining: 1h 7m 36s\n",
      "202:\tlearn: 0.7059370\ttotal: 17m 14s\tremaining: 1h 7m 42s\n",
      "203:\tlearn: 0.7047781\ttotal: 17m 22s\tremaining: 1h 7m 48s\n",
      "204:\tlearn: 0.7040312\ttotal: 17m 30s\tremaining: 1h 7m 54s\n",
      "205:\tlearn: 0.7028235\ttotal: 17m 36s\tremaining: 1h 7m 52s\n",
      "206:\tlearn: 0.7012308\ttotal: 17m 42s\tremaining: 1h 7m 51s\n",
      "207:\tlearn: 0.6994092\ttotal: 17m 48s\tremaining: 1h 7m 50s\n",
      "208:\tlearn: 0.6990078\ttotal: 17m 54s\tremaining: 1h 7m 48s\n",
      "209:\tlearn: 0.6971167\ttotal: 18m 1s\tremaining: 1h 7m 49s\n",
      "210:\tlearn: 0.6957416\ttotal: 18m 8s\tremaining: 1h 7m 48s\n",
      "211:\tlearn: 0.6947498\ttotal: 18m 14s\tremaining: 1h 7m 48s\n",
      "212:\tlearn: 0.6943754\ttotal: 18m 20s\tremaining: 1h 7m 47s\n",
      "213:\tlearn: 0.6936615\ttotal: 18m 27s\tremaining: 1h 7m 48s\n",
      "214:\tlearn: 0.6924659\ttotal: 18m 34s\tremaining: 1h 7m 49s\n",
      "215:\tlearn: 0.6916510\ttotal: 18m 42s\tremaining: 1h 7m 52s\n",
      "216:\tlearn: 0.6900645\ttotal: 18m 48s\tremaining: 1h 7m 52s\n",
      "217:\tlearn: 0.6895890\ttotal: 18m 54s\tremaining: 1h 7m 50s\n",
      "218:\tlearn: 0.6890680\ttotal: 19m 1s\tremaining: 1h 7m 49s\n",
      "219:\tlearn: 0.6883548\ttotal: 19m 6s\tremaining: 1h 7m 46s\n",
      "220:\tlearn: 0.6875448\ttotal: 19m 12s\tremaining: 1h 7m 41s\n",
      "221:\tlearn: 0.6868566\ttotal: 19m 18s\tremaining: 1h 7m 39s\n",
      "222:\tlearn: 0.6847041\ttotal: 19m 23s\tremaining: 1h 7m 33s\n",
      "223:\tlearn: 0.6844422\ttotal: 19m 28s\tremaining: 1h 7m 29s\n",
      "224:\tlearn: 0.6835682\ttotal: 19m 35s\tremaining: 1h 7m 28s\n",
      "225:\tlearn: 0.6826581\ttotal: 19m 40s\tremaining: 1h 7m 23s\n",
      "226:\tlearn: 0.6813788\ttotal: 19m 45s\tremaining: 1h 7m 18s\n",
      "227:\tlearn: 0.6810038\ttotal: 19m 51s\tremaining: 1h 7m 13s\n",
      "228:\tlearn: 0.6805304\ttotal: 19m 56s\tremaining: 1h 7m 8s\n",
      "229:\tlearn: 0.6780705\ttotal: 20m 1s\tremaining: 1h 7m 2s\n",
      "230:\tlearn: 0.6776405\ttotal: 20m 6s\tremaining: 1h 6m 56s\n",
      "231:\tlearn: 0.6772432\ttotal: 20m 11s\tremaining: 1h 6m 50s\n",
      "232:\tlearn: 0.6766758\ttotal: 20m 16s\tremaining: 1h 6m 46s\n",
      "233:\tlearn: 0.6757204\ttotal: 20m 23s\tremaining: 1h 6m 43s\n",
      "234:\tlearn: 0.6753329\ttotal: 20m 29s\tremaining: 1h 6m 42s\n",
      "235:\tlearn: 0.6750063\ttotal: 20m 36s\tremaining: 1h 6m 43s\n",
      "236:\tlearn: 0.6747900\ttotal: 20m 43s\tremaining: 1h 6m 44s\n",
      "237:\tlearn: 0.6735017\ttotal: 20m 51s\tremaining: 1h 6m 45s\n",
      "238:\tlearn: 0.6728191\ttotal: 20m 57s\tremaining: 1h 6m 43s\n",
      "239:\tlearn: 0.6716119\ttotal: 21m 3s\tremaining: 1h 6m 39s\n",
      "240:\tlearn: 0.6712006\ttotal: 21m 9s\tremaining: 1h 6m 36s\n",
      "241:\tlearn: 0.6701211\ttotal: 21m 14s\tremaining: 1h 6m 32s\n",
      "242:\tlearn: 0.6693369\ttotal: 21m 20s\tremaining: 1h 6m 27s\n",
      "243:\tlearn: 0.6686758\ttotal: 21m 25s\tremaining: 1h 6m 21s\n",
      "244:\tlearn: 0.6683755\ttotal: 21m 30s\tremaining: 1h 6m 16s\n",
      "245:\tlearn: 0.6682087\ttotal: 21m 36s\tremaining: 1h 6m 14s\n",
      "246:\tlearn: 0.6663874\ttotal: 21m 42s\tremaining: 1h 6m 11s\n",
      "247:\tlearn: 0.6639255\ttotal: 21m 49s\tremaining: 1h 6m 9s\n",
      "248:\tlearn: 0.6635794\ttotal: 21m 54s\tremaining: 1h 6m 5s\n",
      "249:\tlearn: 0.6623151\ttotal: 22m\tremaining: 1h 6m 2s\n",
      "250:\tlearn: 0.6611009\ttotal: 22m 7s\tremaining: 1h 6m 1s\n",
      "251:\tlearn: 0.6598956\ttotal: 22m 14s\tremaining: 1h 5m 59s\n",
      "252:\tlearn: 0.6593517\ttotal: 22m 19s\tremaining: 1h 5m 55s\n",
      "253:\tlearn: 0.6585821\ttotal: 22m 25s\tremaining: 1h 5m 52s\n",
      "254:\tlearn: 0.6581423\ttotal: 22m 30s\tremaining: 1h 5m 45s\n",
      "255:\tlearn: 0.6575425\ttotal: 22m 35s\tremaining: 1h 5m 39s\n",
      "256:\tlearn: 0.6571494\ttotal: 22m 42s\tremaining: 1h 5m 38s\n",
      "257:\tlearn: 0.6551413\ttotal: 22m 49s\tremaining: 1h 5m 39s\n",
      "258:\tlearn: 0.6543374\ttotal: 22m 56s\tremaining: 1h 5m 38s\n",
      "259:\tlearn: 0.6532802\ttotal: 23m 3s\tremaining: 1h 5m 37s\n",
      "260:\tlearn: 0.6505496\ttotal: 23m 10s\tremaining: 1h 5m 37s\n",
      "261:\tlearn: 0.6502802\ttotal: 23m 17s\tremaining: 1h 5m 37s\n",
      "262:\tlearn: 0.6496986\ttotal: 23m 24s\tremaining: 1h 5m 35s\n",
      "263:\tlearn: 0.6493307\ttotal: 23m 30s\tremaining: 1h 5m 31s\n",
      "264:\tlearn: 0.6489764\ttotal: 23m 38s\tremaining: 1h 5m 33s\n",
      "265:\tlearn: 0.6483907\ttotal: 23m 44s\tremaining: 1h 5m 29s\n",
      "266:\tlearn: 0.6479021\ttotal: 23m 50s\tremaining: 1h 5m 26s\n",
      "267:\tlearn: 0.6475665\ttotal: 23m 55s\tremaining: 1h 5m 20s\n",
      "268:\tlearn: 0.6471360\ttotal: 24m\tremaining: 1h 5m 14s\n",
      "269:\tlearn: 0.6465027\ttotal: 24m 6s\tremaining: 1h 5m 10s\n",
      "270:\tlearn: 0.6461498\ttotal: 24m 11s\tremaining: 1h 5m 3s\n",
      "271:\tlearn: 0.6451678\ttotal: 24m 16s\tremaining: 1h 4m 58s\n",
      "272:\tlearn: 0.6448388\ttotal: 24m 21s\tremaining: 1h 4m 51s\n",
      "273:\tlearn: 0.6431996\ttotal: 24m 26s\tremaining: 1h 4m 45s\n",
      "274:\tlearn: 0.6416970\ttotal: 24m 31s\tremaining: 1h 4m 38s\n",
      "275:\tlearn: 0.6414907\ttotal: 24m 35s\tremaining: 1h 4m 31s\n",
      "276:\tlearn: 0.6410184\ttotal: 24m 41s\tremaining: 1h 4m 26s\n",
      "277:\tlearn: 0.6403996\ttotal: 24m 46s\tremaining: 1h 4m 21s\n",
      "278:\tlearn: 0.6399218\ttotal: 24m 52s\tremaining: 1h 4m 18s\n",
      "279:\tlearn: 0.6384569\ttotal: 24m 58s\tremaining: 1h 4m 13s\n",
      "280:\tlearn: 0.6371050\ttotal: 25m 3s\tremaining: 1h 4m 6s\n",
      "281:\tlearn: 0.6368474\ttotal: 25m 8s\tremaining: 1h 4m 1s\n",
      "282:\tlearn: 0.6365380\ttotal: 25m 14s\tremaining: 1h 3m 58s\n",
      "283:\tlearn: 0.6359044\ttotal: 25m 21s\tremaining: 1h 3m 55s\n",
      "284:\tlearn: 0.6356690\ttotal: 25m 27s\tremaining: 1h 3m 51s\n",
      "285:\tlearn: 0.6352692\ttotal: 25m 33s\tremaining: 1h 3m 47s\n",
      "286:\tlearn: 0.6349848\ttotal: 25m 40s\tremaining: 1h 3m 46s\n",
      "287:\tlearn: 0.6343799\ttotal: 25m 45s\tremaining: 1h 3m 40s\n",
      "288:\tlearn: 0.6339075\ttotal: 25m 50s\tremaining: 1h 3m 34s\n",
      "289:\tlearn: 0.6332625\ttotal: 25m 56s\tremaining: 1h 3m 29s\n",
      "290:\tlearn: 0.6330092\ttotal: 26m 1s\tremaining: 1h 3m 24s\n"
     ]
    },
    {
     "name": "stdout",
     "output_type": "stream",
     "text": [
      "291:\tlearn: 0.6328156\ttotal: 26m 7s\tremaining: 1h 3m 19s\n",
      "292:\tlearn: 0.6323283\ttotal: 26m 11s\tremaining: 1h 3m 13s\n",
      "293:\tlearn: 0.6311011\ttotal: 26m 17s\tremaining: 1h 3m 7s\n",
      "294:\tlearn: 0.6308539\ttotal: 26m 21s\tremaining: 1h 3m\n",
      "295:\tlearn: 0.6304980\ttotal: 26m 26s\tremaining: 1h 2m 53s\n",
      "296:\tlearn: 0.6301578\ttotal: 26m 31s\tremaining: 1h 2m 47s\n",
      "297:\tlearn: 0.6297255\ttotal: 26m 37s\tremaining: 1h 2m 42s\n",
      "298:\tlearn: 0.6293409\ttotal: 26m 42s\tremaining: 1h 2m 37s\n",
      "299:\tlearn: 0.6283704\ttotal: 26m 47s\tremaining: 1h 2m 31s\n",
      "300:\tlearn: 0.6276440\ttotal: 26m 54s\tremaining: 1h 2m 29s\n",
      "301:\tlearn: 0.6274650\ttotal: 27m 1s\tremaining: 1h 2m 26s\n",
      "302:\tlearn: 0.6272038\ttotal: 27m 8s\tremaining: 1h 2m 26s\n",
      "303:\tlearn: 0.6268656\ttotal: 27m 14s\tremaining: 1h 2m 21s\n",
      "304:\tlearn: 0.6256321\ttotal: 27m 19s\tremaining: 1h 2m 15s\n",
      "305:\tlearn: 0.6233371\ttotal: 27m 24s\tremaining: 1h 2m 10s\n",
      "306:\tlearn: 0.6230659\ttotal: 27m 30s\tremaining: 1h 2m 4s\n",
      "307:\tlearn: 0.6228915\ttotal: 27m 36s\tremaining: 1h 2m\n",
      "308:\tlearn: 0.6224458\ttotal: 27m 41s\tremaining: 1h 1m 56s\n",
      "309:\tlearn: 0.6217015\ttotal: 27m 47s\tremaining: 1h 1m 52s\n",
      "310:\tlearn: 0.6214223\ttotal: 27m 52s\tremaining: 1h 1m 46s\n",
      "311:\tlearn: 0.6212131\ttotal: 27m 58s\tremaining: 1h 1m 40s\n",
      "312:\tlearn: 0.6209477\ttotal: 28m 3s\tremaining: 1h 1m 34s\n",
      "313:\tlearn: 0.6206643\ttotal: 28m 8s\tremaining: 1h 1m 29s\n",
      "314:\tlearn: 0.6204832\ttotal: 28m 14s\tremaining: 1h 1m 24s\n",
      "315:\tlearn: 0.6201228\ttotal: 28m 19s\tremaining: 1h 1m 19s\n",
      "316:\tlearn: 0.6198125\ttotal: 28m 25s\tremaining: 1h 1m 14s\n",
      "317:\tlearn: 0.6191932\ttotal: 28m 30s\tremaining: 1h 1m 8s\n",
      "318:\tlearn: 0.6185327\ttotal: 28m 35s\tremaining: 1h 1m 3s\n",
      "319:\tlearn: 0.6182441\ttotal: 28m 41s\tremaining: 1h 57s\n",
      "320:\tlearn: 0.6170650\ttotal: 28m 47s\tremaining: 1h 53s\n",
      "321:\tlearn: 0.6167615\ttotal: 28m 52s\tremaining: 1h 48s\n",
      "322:\tlearn: 0.6164124\ttotal: 28m 57s\tremaining: 1h 41s\n",
      "323:\tlearn: 0.6155035\ttotal: 29m 2s\tremaining: 1h 35s\n",
      "324:\tlearn: 0.6150762\ttotal: 29m 7s\tremaining: 1h 29s\n",
      "325:\tlearn: 0.6147879\ttotal: 29m 13s\tremaining: 1h 24s\n",
      "326:\tlearn: 0.6145871\ttotal: 29m 19s\tremaining: 1h 20s\n",
      "327:\tlearn: 0.6131651\ttotal: 29m 24s\tremaining: 1h 14s\n",
      "328:\tlearn: 0.6129396\ttotal: 29m 29s\tremaining: 1h 8s\n",
      "329:\tlearn: 0.6123704\ttotal: 29m 35s\tremaining: 1h 4s\n",
      "330:\tlearn: 0.6120845\ttotal: 29m 40s\tremaining: 59m 59s\n",
      "331:\tlearn: 0.6116899\ttotal: 29m 45s\tremaining: 59m 52s\n",
      "332:\tlearn: 0.6114623\ttotal: 29m 50s\tremaining: 59m 46s\n",
      "333:\tlearn: 0.6112182\ttotal: 29m 57s\tremaining: 59m 43s\n",
      "334:\tlearn: 0.6108488\ttotal: 30m 2s\tremaining: 59m 38s\n",
      "335:\tlearn: 0.6104592\ttotal: 30m 8s\tremaining: 59m 33s\n",
      "336:\tlearn: 0.6100374\ttotal: 30m 13s\tremaining: 59m 27s\n",
      "337:\tlearn: 0.6095482\ttotal: 30m 19s\tremaining: 59m 23s\n",
      "338:\tlearn: 0.6091213\ttotal: 30m 24s\tremaining: 59m 18s\n",
      "339:\tlearn: 0.6084528\ttotal: 30m 29s\tremaining: 59m 11s\n",
      "340:\tlearn: 0.6080993\ttotal: 30m 34s\tremaining: 59m 6s\n",
      "341:\tlearn: 0.6079334\ttotal: 30m 39s\tremaining: 58m 59s\n",
      "342:\tlearn: 0.6076306\ttotal: 30m 44s\tremaining: 58m 53s\n",
      "343:\tlearn: 0.6073107\ttotal: 30m 49s\tremaining: 58m 47s\n",
      "344:\tlearn: 0.6068801\ttotal: 30m 55s\tremaining: 58m 42s\n",
      "345:\tlearn: 0.6065432\ttotal: 31m\tremaining: 58m 37s\n",
      "346:\tlearn: 0.6061935\ttotal: 31m 7s\tremaining: 58m 34s\n",
      "347:\tlearn: 0.6060080\ttotal: 31m 15s\tremaining: 58m 34s\n",
      "348:\tlearn: 0.6050432\ttotal: 31m 21s\tremaining: 58m 29s\n",
      "349:\tlearn: 0.6046169\ttotal: 31m 26s\tremaining: 58m 24s\n",
      "350:\tlearn: 0.6041801\ttotal: 31m 32s\tremaining: 58m 18s\n",
      "351:\tlearn: 0.6039541\ttotal: 31m 37s\tremaining: 58m 12s\n",
      "352:\tlearn: 0.6036929\ttotal: 31m 43s\tremaining: 58m 9s\n",
      "353:\tlearn: 0.6028465\ttotal: 31m 49s\tremaining: 58m 4s\n",
      "354:\tlearn: 0.6018902\ttotal: 31m 54s\tremaining: 57m 58s\n",
      "355:\tlearn: 0.6016244\ttotal: 31m 58s\tremaining: 57m 50s\n",
      "356:\tlearn: 0.6012713\ttotal: 32m 3s\tremaining: 57m 44s\n",
      "357:\tlearn: 0.6006874\ttotal: 32m 8s\tremaining: 57m 38s\n",
      "358:\tlearn: 0.6004451\ttotal: 32m 13s\tremaining: 57m 32s\n",
      "359:\tlearn: 0.6002251\ttotal: 32m 18s\tremaining: 57m 25s\n",
      "360:\tlearn: 0.5996875\ttotal: 32m 22s\tremaining: 57m 18s\n",
      "361:\tlearn: 0.5993018\ttotal: 32m 27s\tremaining: 57m 11s\n",
      "362:\tlearn: 0.5986468\ttotal: 32m 31s\tremaining: 57m 4s\n",
      "363:\tlearn: 0.5983695\ttotal: 32m 36s\tremaining: 56m 58s\n",
      "364:\tlearn: 0.5980270\ttotal: 32m 40s\tremaining: 56m 51s\n",
      "365:\tlearn: 0.5975670\ttotal: 32m 45s\tremaining: 56m 44s\n",
      "366:\tlearn: 0.5968067\ttotal: 32m 49s\tremaining: 56m 37s\n",
      "367:\tlearn: 0.5963833\ttotal: 32m 53s\tremaining: 56m 30s\n",
      "368:\tlearn: 0.5961399\ttotal: 32m 58s\tremaining: 56m 23s\n",
      "369:\tlearn: 0.5958102\ttotal: 33m 3s\tremaining: 56m 16s\n",
      "370:\tlearn: 0.5955355\ttotal: 33m 7s\tremaining: 56m 10s\n",
      "371:\tlearn: 0.5952586\ttotal: 33m 13s\tremaining: 56m 4s\n",
      "372:\tlearn: 0.5945105\ttotal: 33m 17s\tremaining: 55m 57s\n",
      "373:\tlearn: 0.5925625\ttotal: 33m 22s\tremaining: 55m 50s\n",
      "374:\tlearn: 0.5922722\ttotal: 33m 26s\tremaining: 55m 44s\n",
      "375:\tlearn: 0.5919457\ttotal: 33m 31s\tremaining: 55m 37s\n",
      "376:\tlearn: 0.5916198\ttotal: 33m 36s\tremaining: 55m 31s\n",
      "377:\tlearn: 0.5912929\ttotal: 33m 40s\tremaining: 55m 24s\n",
      "378:\tlearn: 0.5896763\ttotal: 33m 45s\tremaining: 55m 18s\n",
      "379:\tlearn: 0.5893806\ttotal: 33m 50s\tremaining: 55m 12s\n",
      "380:\tlearn: 0.5889983\ttotal: 33m 54s\tremaining: 55m 5s\n",
      "381:\tlearn: 0.5887373\ttotal: 33m 59s\tremaining: 54m 59s\n",
      "382:\tlearn: 0.5884436\ttotal: 34m 4s\tremaining: 54m 52s\n",
      "383:\tlearn: 0.5875172\ttotal: 34m 8s\tremaining: 54m 45s\n",
      "384:\tlearn: 0.5871100\ttotal: 34m 13s\tremaining: 54m 40s\n",
      "385:\tlearn: 0.5857274\ttotal: 34m 18s\tremaining: 54m 35s\n",
      "386:\tlearn: 0.5848164\ttotal: 34m 23s\tremaining: 54m 29s\n",
      "387:\tlearn: 0.5845895\ttotal: 34m 28s\tremaining: 54m 22s\n",
      "388:\tlearn: 0.5840592\ttotal: 34m 32s\tremaining: 54m 15s\n",
      "389:\tlearn: 0.5836606\ttotal: 34m 37s\tremaining: 54m 9s\n",
      "390:\tlearn: 0.5829698\ttotal: 34m 41s\tremaining: 54m 2s\n",
      "391:\tlearn: 0.5828016\ttotal: 34m 46s\tremaining: 53m 56s\n",
      "392:\tlearn: 0.5825325\ttotal: 34m 50s\tremaining: 53m 49s\n",
      "393:\tlearn: 0.5822802\ttotal: 34m 55s\tremaining: 53m 42s\n",
      "394:\tlearn: 0.5818793\ttotal: 34m 59s\tremaining: 53m 35s\n",
      "395:\tlearn: 0.5816165\ttotal: 35m 3s\tremaining: 53m 28s\n",
      "396:\tlearn: 0.5812040\ttotal: 35m 8s\tremaining: 53m 22s\n",
      "397:\tlearn: 0.5809265\ttotal: 35m 12s\tremaining: 53m 15s\n",
      "398:\tlearn: 0.5803170\ttotal: 35m 17s\tremaining: 53m 10s\n",
      "399:\tlearn: 0.5799672\ttotal: 35m 22s\tremaining: 53m 3s\n",
      "400:\tlearn: 0.5796296\ttotal: 35m 26s\tremaining: 52m 57s\n",
      "401:\tlearn: 0.5791664\ttotal: 35m 31s\tremaining: 52m 50s\n",
      "402:\tlearn: 0.5784052\ttotal: 35m 35s\tremaining: 52m 43s\n",
      "403:\tlearn: 0.5781270\ttotal: 35m 40s\tremaining: 52m 37s\n",
      "404:\tlearn: 0.5776251\ttotal: 35m 44s\tremaining: 52m 30s\n",
      "405:\tlearn: 0.5774399\ttotal: 35m 48s\tremaining: 52m 24s\n",
      "406:\tlearn: 0.5771160\ttotal: 35m 53s\tremaining: 52m 17s\n",
      "407:\tlearn: 0.5769081\ttotal: 35m 57s\tremaining: 52m 11s\n",
      "408:\tlearn: 0.5766256\ttotal: 36m 2s\tremaining: 52m 4s\n",
      "409:\tlearn: 0.5760870\ttotal: 36m 6s\tremaining: 51m 57s\n",
      "410:\tlearn: 0.5758295\ttotal: 36m 10s\tremaining: 51m 50s\n",
      "411:\tlearn: 0.5756317\ttotal: 36m 15s\tremaining: 51m 44s\n",
      "412:\tlearn: 0.5754042\ttotal: 36m 19s\tremaining: 51m 37s\n",
      "413:\tlearn: 0.5749727\ttotal: 36m 23s\tremaining: 51m 30s\n",
      "414:\tlearn: 0.5743899\ttotal: 36m 28s\tremaining: 51m 24s\n",
      "415:\tlearn: 0.5739957\ttotal: 36m 32s\tremaining: 51m 18s\n",
      "416:\tlearn: 0.5731068\ttotal: 36m 37s\tremaining: 51m 12s\n",
      "417:\tlearn: 0.5728299\ttotal: 36m 41s\tremaining: 51m 5s\n",
      "418:\tlearn: 0.5723357\ttotal: 36m 46s\tremaining: 50m 59s\n",
      "419:\tlearn: 0.5718499\ttotal: 36m 50s\tremaining: 50m 52s\n",
      "420:\tlearn: 0.5715807\ttotal: 36m 55s\tremaining: 50m 46s\n",
      "421:\tlearn: 0.5703774\ttotal: 36m 59s\tremaining: 50m 40s\n",
      "422:\tlearn: 0.5685373\ttotal: 37m 4s\tremaining: 50m 34s\n",
      "423:\tlearn: 0.5683086\ttotal: 37m 8s\tremaining: 50m 27s\n",
      "424:\tlearn: 0.5681011\ttotal: 37m 12s\tremaining: 50m 21s\n",
      "425:\tlearn: 0.5677520\ttotal: 37m 17s\tremaining: 50m 14s\n",
      "426:\tlearn: 0.5675244\ttotal: 37m 21s\tremaining: 50m 8s\n",
      "427:\tlearn: 0.5671375\ttotal: 37m 26s\tremaining: 50m 1s\n",
      "428:\tlearn: 0.5667525\ttotal: 37m 30s\tremaining: 49m 55s\n",
      "429:\tlearn: 0.5664068\ttotal: 37m 35s\tremaining: 49m 49s\n",
      "430:\tlearn: 0.5661054\ttotal: 37m 39s\tremaining: 49m 43s\n",
      "431:\tlearn: 0.5657904\ttotal: 37m 43s\tremaining: 49m 36s\n",
      "432:\tlearn: 0.5651745\ttotal: 37m 48s\tremaining: 49m 30s\n",
      "433:\tlearn: 0.5645697\ttotal: 37m 52s\tremaining: 49m 23s\n",
      "434:\tlearn: 0.5642677\ttotal: 37m 56s\tremaining: 49m 17s\n",
      "435:\tlearn: 0.5632622\ttotal: 38m\tremaining: 49m 10s\n",
      "436:\tlearn: 0.5631147\ttotal: 38m 5s\tremaining: 49m 4s\n",
      "437:\tlearn: 0.5626049\ttotal: 38m 10s\tremaining: 48m 58s\n"
     ]
    },
    {
     "name": "stdout",
     "output_type": "stream",
     "text": [
      "438:\tlearn: 0.5622322\ttotal: 38m 14s\tremaining: 48m 52s\n",
      "439:\tlearn: 0.5618922\ttotal: 38m 18s\tremaining: 48m 45s\n",
      "440:\tlearn: 0.5611140\ttotal: 38m 23s\tremaining: 48m 39s\n",
      "441:\tlearn: 0.5606189\ttotal: 38m 27s\tremaining: 48m 32s\n",
      "442:\tlearn: 0.5602658\ttotal: 38m 31s\tremaining: 48m 26s\n",
      "443:\tlearn: 0.5601075\ttotal: 38m 35s\tremaining: 48m 19s\n",
      "444:\tlearn: 0.5594147\ttotal: 38m 40s\tremaining: 48m 14s\n",
      "445:\tlearn: 0.5590874\ttotal: 38m 45s\tremaining: 48m 8s\n",
      "446:\tlearn: 0.5588065\ttotal: 38m 49s\tremaining: 48m 1s\n",
      "447:\tlearn: 0.5585164\ttotal: 38m 54s\tremaining: 47m 55s\n",
      "448:\tlearn: 0.5579157\ttotal: 38m 58s\tremaining: 47m 49s\n",
      "449:\tlearn: 0.5571088\ttotal: 39m 2s\tremaining: 47m 43s\n",
      "450:\tlearn: 0.5569211\ttotal: 39m 7s\tremaining: 47m 37s\n",
      "451:\tlearn: 0.5566292\ttotal: 39m 11s\tremaining: 47m 30s\n",
      "452:\tlearn: 0.5563869\ttotal: 39m 15s\tremaining: 47m 24s\n",
      "453:\tlearn: 0.5561557\ttotal: 39m 20s\tremaining: 47m 18s\n",
      "454:\tlearn: 0.5559439\ttotal: 39m 24s\tremaining: 47m 12s\n",
      "455:\tlearn: 0.5557093\ttotal: 39m 28s\tremaining: 47m 5s\n",
      "456:\tlearn: 0.5547732\ttotal: 39m 32s\tremaining: 46m 59s\n",
      "457:\tlearn: 0.5545509\ttotal: 39m 37s\tremaining: 46m 53s\n",
      "458:\tlearn: 0.5541835\ttotal: 39m 41s\tremaining: 46m 47s\n",
      "459:\tlearn: 0.5537098\ttotal: 39m 46s\tremaining: 46m 40s\n",
      "460:\tlearn: 0.5534206\ttotal: 39m 51s\tremaining: 46m 35s\n",
      "461:\tlearn: 0.5528003\ttotal: 39m 55s\tremaining: 46m 29s\n",
      "462:\tlearn: 0.5524293\ttotal: 39m 59s\tremaining: 46m 23s\n",
      "463:\tlearn: 0.5521044\ttotal: 40m 4s\tremaining: 46m 17s\n",
      "464:\tlearn: 0.5518667\ttotal: 40m 8s\tremaining: 46m 10s\n",
      "465:\tlearn: 0.5517001\ttotal: 40m 12s\tremaining: 46m 4s\n",
      "466:\tlearn: 0.5513648\ttotal: 40m 16s\tremaining: 45m 58s\n",
      "467:\tlearn: 0.5511759\ttotal: 40m 21s\tremaining: 45m 52s\n",
      "468:\tlearn: 0.5509242\ttotal: 40m 26s\tremaining: 45m 46s\n",
      "469:\tlearn: 0.5505749\ttotal: 40m 30s\tremaining: 45m 41s\n",
      "470:\tlearn: 0.5497040\ttotal: 40m 35s\tremaining: 45m 35s\n",
      "471:\tlearn: 0.5494769\ttotal: 40m 39s\tremaining: 45m 29s\n",
      "472:\tlearn: 0.5486725\ttotal: 40m 44s\tremaining: 45m 23s\n",
      "473:\tlearn: 0.5484884\ttotal: 40m 48s\tremaining: 45m 17s\n",
      "474:\tlearn: 0.5477416\ttotal: 40m 52s\tremaining: 45m 11s\n",
      "475:\tlearn: 0.5468931\ttotal: 40m 57s\tremaining: 45m 5s\n",
      "476:\tlearn: 0.5463634\ttotal: 41m 2s\tremaining: 44m 59s\n",
      "477:\tlearn: 0.5461623\ttotal: 41m 7s\tremaining: 44m 54s\n",
      "478:\tlearn: 0.5459421\ttotal: 41m 11s\tremaining: 44m 48s\n",
      "479:\tlearn: 0.5454158\ttotal: 41m 16s\tremaining: 44m 42s\n",
      "480:\tlearn: 0.5446337\ttotal: 41m 20s\tremaining: 44m 36s\n",
      "481:\tlearn: 0.5442322\ttotal: 41m 24s\tremaining: 44m 30s\n",
      "482:\tlearn: 0.5436929\ttotal: 41m 29s\tremaining: 44m 24s\n",
      "483:\tlearn: 0.5430118\ttotal: 41m 33s\tremaining: 44m 18s\n",
      "484:\tlearn: 0.5428878\ttotal: 41m 38s\tremaining: 44m 12s\n",
      "485:\tlearn: 0.5427307\ttotal: 41m 42s\tremaining: 44m 7s\n",
      "486:\tlearn: 0.5421636\ttotal: 41m 47s\tremaining: 44m 1s\n",
      "487:\tlearn: 0.5419483\ttotal: 41m 53s\tremaining: 43m 56s\n",
      "488:\tlearn: 0.5413177\ttotal: 41m 58s\tremaining: 43m 51s\n",
      "489:\tlearn: 0.5411181\ttotal: 42m 2s\tremaining: 43m 45s\n",
      "490:\tlearn: 0.5400840\ttotal: 42m 6s\tremaining: 43m 39s\n",
      "491:\tlearn: 0.5398208\ttotal: 42m 12s\tremaining: 43m 34s\n",
      "492:\tlearn: 0.5386112\ttotal: 42m 16s\tremaining: 43m 28s\n",
      "493:\tlearn: 0.5382536\ttotal: 42m 21s\tremaining: 43m 22s\n",
      "494:\tlearn: 0.5371569\ttotal: 42m 25s\tremaining: 43m 16s\n",
      "495:\tlearn: 0.5369505\ttotal: 42m 29s\tremaining: 43m 10s\n",
      "496:\tlearn: 0.5368075\ttotal: 42m 33s\tremaining: 43m 4s\n",
      "497:\tlearn: 0.5364720\ttotal: 42m 38s\tremaining: 42m 59s\n",
      "498:\tlearn: 0.5360585\ttotal: 42m 42s\tremaining: 42m 53s\n",
      "499:\tlearn: 0.5358077\ttotal: 42m 47s\tremaining: 42m 47s\n",
      "500:\tlearn: 0.5355956\ttotal: 42m 51s\tremaining: 42m 40s\n",
      "501:\tlearn: 0.5353963\ttotal: 42m 55s\tremaining: 42m 34s\n",
      "502:\tlearn: 0.5351776\ttotal: 42m 59s\tremaining: 42m 28s\n",
      "503:\tlearn: 0.5349024\ttotal: 43m 3s\tremaining: 42m 22s\n",
      "504:\tlearn: 0.5344284\ttotal: 43m 8s\tremaining: 42m 17s\n",
      "505:\tlearn: 0.5342006\ttotal: 43m 13s\tremaining: 42m 12s\n",
      "506:\tlearn: 0.5333231\ttotal: 43m 18s\tremaining: 42m 6s\n",
      "507:\tlearn: 0.5323605\ttotal: 43m 22s\tremaining: 42m\n",
      "508:\tlearn: 0.5322370\ttotal: 43m 26s\tremaining: 41m 54s\n",
      "509:\tlearn: 0.5320375\ttotal: 43m 31s\tremaining: 41m 49s\n",
      "510:\tlearn: 0.5318305\ttotal: 43m 35s\tremaining: 41m 42s\n",
      "511:\tlearn: 0.5304901\ttotal: 43m 39s\tremaining: 41m 37s\n",
      "512:\tlearn: 0.5302936\ttotal: 43m 44s\tremaining: 41m 31s\n",
      "513:\tlearn: 0.5300014\ttotal: 43m 48s\tremaining: 41m 25s\n",
      "514:\tlearn: 0.5297382\ttotal: 43m 52s\tremaining: 41m 19s\n",
      "515:\tlearn: 0.5295249\ttotal: 43m 57s\tremaining: 41m 13s\n",
      "516:\tlearn: 0.5293455\ttotal: 44m 1s\tremaining: 41m 7s\n",
      "517:\tlearn: 0.5290602\ttotal: 44m 5s\tremaining: 41m 1s\n",
      "518:\tlearn: 0.5285797\ttotal: 44m 10s\tremaining: 40m 56s\n",
      "519:\tlearn: 0.5283692\ttotal: 44m 14s\tremaining: 40m 50s\n",
      "520:\tlearn: 0.5281923\ttotal: 44m 19s\tremaining: 40m 44s\n",
      "521:\tlearn: 0.5279406\ttotal: 44m 24s\tremaining: 40m 39s\n",
      "522:\tlearn: 0.5277283\ttotal: 44m 28s\tremaining: 40m 33s\n",
      "523:\tlearn: 0.5272801\ttotal: 44m 33s\tremaining: 40m 28s\n",
      "524:\tlearn: 0.5271094\ttotal: 44m 37s\tremaining: 40m 22s\n",
      "525:\tlearn: 0.5256527\ttotal: 44m 42s\tremaining: 40m 17s\n",
      "526:\tlearn: 0.5253415\ttotal: 44m 46s\tremaining: 40m 11s\n",
      "527:\tlearn: 0.5248704\ttotal: 44m 51s\tremaining: 40m 5s\n",
      "528:\tlearn: 0.5246321\ttotal: 44m 55s\tremaining: 39m 59s\n",
      "529:\tlearn: 0.5240869\ttotal: 45m\tremaining: 39m 54s\n",
      "530:\tlearn: 0.5238001\ttotal: 45m 4s\tremaining: 39m 49s\n",
      "531:\tlearn: 0.5235066\ttotal: 45m 9s\tremaining: 39m 43s\n",
      "532:\tlearn: 0.5230073\ttotal: 45m 14s\tremaining: 39m 38s\n",
      "533:\tlearn: 0.5228401\ttotal: 45m 20s\tremaining: 39m 33s\n",
      "534:\tlearn: 0.5222974\ttotal: 45m 25s\tremaining: 39m 28s\n",
      "535:\tlearn: 0.5218764\ttotal: 45m 30s\tremaining: 39m 23s\n",
      "536:\tlearn: 0.5216651\ttotal: 45m 35s\tremaining: 39m 18s\n",
      "537:\tlearn: 0.5214410\ttotal: 45m 41s\tremaining: 39m 14s\n",
      "538:\tlearn: 0.5212628\ttotal: 45m 47s\tremaining: 39m 10s\n",
      "539:\tlearn: 0.5210488\ttotal: 45m 53s\tremaining: 39m 5s\n",
      "540:\tlearn: 0.5208921\ttotal: 45m 59s\tremaining: 39m 1s\n",
      "541:\tlearn: 0.5203222\ttotal: 46m 5s\tremaining: 38m 56s\n",
      "542:\tlearn: 0.5201281\ttotal: 46m 10s\tremaining: 38m 51s\n",
      "543:\tlearn: 0.5198630\ttotal: 46m 15s\tremaining: 38m 46s\n",
      "544:\tlearn: 0.5187443\ttotal: 46m 20s\tremaining: 38m 41s\n",
      "545:\tlearn: 0.5183508\ttotal: 46m 25s\tremaining: 38m 36s\n",
      "546:\tlearn: 0.5182077\ttotal: 46m 30s\tremaining: 38m 31s\n",
      "547:\tlearn: 0.5180085\ttotal: 46m 36s\tremaining: 38m 26s\n",
      "548:\tlearn: 0.5177816\ttotal: 46m 41s\tremaining: 38m 21s\n",
      "549:\tlearn: 0.5175720\ttotal: 46m 46s\tremaining: 38m 16s\n",
      "550:\tlearn: 0.5170221\ttotal: 46m 51s\tremaining: 38m 11s\n",
      "551:\tlearn: 0.5167842\ttotal: 46m 56s\tremaining: 38m 5s\n",
      "552:\tlearn: 0.5162692\ttotal: 47m\tremaining: 38m\n",
      "553:\tlearn: 0.5157073\ttotal: 47m 5s\tremaining: 37m 54s\n",
      "554:\tlearn: 0.5154455\ttotal: 47m 9s\tremaining: 37m 48s\n",
      "555:\tlearn: 0.5153039\ttotal: 47m 14s\tremaining: 37m 43s\n",
      "556:\tlearn: 0.5151442\ttotal: 47m 18s\tremaining: 37m 37s\n",
      "557:\tlearn: 0.5144230\ttotal: 47m 23s\tremaining: 37m 32s\n",
      "558:\tlearn: 0.5142292\ttotal: 47m 27s\tremaining: 37m 26s\n",
      "559:\tlearn: 0.5140110\ttotal: 47m 32s\tremaining: 37m 20s\n",
      "560:\tlearn: 0.5134394\ttotal: 47m 36s\tremaining: 37m 15s\n",
      "561:\tlearn: 0.5132388\ttotal: 47m 40s\tremaining: 37m 9s\n",
      "562:\tlearn: 0.5131006\ttotal: 47m 45s\tremaining: 37m 3s\n",
      "563:\tlearn: 0.5128575\ttotal: 47m 49s\tremaining: 36m 58s\n",
      "564:\tlearn: 0.5126878\ttotal: 47m 54s\tremaining: 36m 52s\n",
      "565:\tlearn: 0.5123507\ttotal: 47m 58s\tremaining: 36m 47s\n",
      "566:\tlearn: 0.5115183\ttotal: 48m 3s\tremaining: 36m 41s\n",
      "567:\tlearn: 0.5106994\ttotal: 48m 7s\tremaining: 36m 36s\n",
      "568:\tlearn: 0.5104348\ttotal: 48m 11s\tremaining: 36m 30s\n",
      "569:\tlearn: 0.5102210\ttotal: 48m 16s\tremaining: 36m 25s\n",
      "570:\tlearn: 0.5097754\ttotal: 48m 20s\tremaining: 36m 19s\n",
      "571:\tlearn: 0.5095429\ttotal: 48m 26s\tremaining: 36m 14s\n",
      "572:\tlearn: 0.5093147\ttotal: 48m 30s\tremaining: 36m 9s\n",
      "573:\tlearn: 0.5089199\ttotal: 48m 35s\tremaining: 36m 3s\n",
      "574:\tlearn: 0.5085840\ttotal: 48m 39s\tremaining: 35m 58s\n",
      "575:\tlearn: 0.5076942\ttotal: 48m 44s\tremaining: 35m 52s\n",
      "576:\tlearn: 0.5069698\ttotal: 48m 48s\tremaining: 35m 47s\n",
      "577:\tlearn: 0.5068195\ttotal: 48m 53s\tremaining: 35m 41s\n",
      "578:\tlearn: 0.5065961\ttotal: 48m 57s\tremaining: 35m 36s\n",
      "579:\tlearn: 0.5064561\ttotal: 49m 3s\tremaining: 35m 31s\n",
      "580:\tlearn: 0.5057212\ttotal: 49m 7s\tremaining: 35m 25s\n",
      "581:\tlearn: 0.5046038\ttotal: 49m 11s\tremaining: 35m 20s\n",
      "582:\tlearn: 0.5040021\ttotal: 49m 16s\tremaining: 35m 14s\n",
      "583:\tlearn: 0.5038465\ttotal: 49m 20s\tremaining: 35m 8s\n",
      "584:\tlearn: 0.5036814\ttotal: 49m 24s\tremaining: 35m 3s\n",
      "585:\tlearn: 0.5034547\ttotal: 49m 29s\tremaining: 34m 57s\n"
     ]
    },
    {
     "name": "stdout",
     "output_type": "stream",
     "text": [
      "586:\tlearn: 0.5031902\ttotal: 49m 33s\tremaining: 34m 52s\n",
      "587:\tlearn: 0.5028251\ttotal: 49m 37s\tremaining: 34m 46s\n",
      "588:\tlearn: 0.5024755\ttotal: 49m 42s\tremaining: 34m 40s\n",
      "589:\tlearn: 0.5022748\ttotal: 49m 46s\tremaining: 34m 35s\n",
      "590:\tlearn: 0.5020494\ttotal: 49m 50s\tremaining: 34m 29s\n",
      "591:\tlearn: 0.5017964\ttotal: 49m 55s\tremaining: 34m 24s\n",
      "592:\tlearn: 0.5008619\ttotal: 50m\tremaining: 34m 19s\n",
      "593:\tlearn: 0.5000550\ttotal: 50m 5s\tremaining: 34m 13s\n",
      "594:\tlearn: 0.4998996\ttotal: 50m 9s\tremaining: 34m 8s\n",
      "595:\tlearn: 0.4997111\ttotal: 50m 13s\tremaining: 34m 2s\n",
      "596:\tlearn: 0.4995804\ttotal: 50m 18s\tremaining: 33m 57s\n",
      "597:\tlearn: 0.4994023\ttotal: 50m 22s\tremaining: 33m 52s\n",
      "598:\tlearn: 0.4992132\ttotal: 50m 27s\tremaining: 33m 46s\n",
      "599:\tlearn: 0.4990593\ttotal: 50m 31s\tremaining: 33m 41s\n",
      "600:\tlearn: 0.4988352\ttotal: 50m 36s\tremaining: 33m 35s\n",
      "601:\tlearn: 0.4984057\ttotal: 50m 40s\tremaining: 33m 30s\n",
      "602:\tlearn: 0.4982313\ttotal: 50m 44s\tremaining: 33m 24s\n",
      "603:\tlearn: 0.4980112\ttotal: 50m 49s\tremaining: 33m 19s\n",
      "604:\tlearn: 0.4978297\ttotal: 50m 53s\tremaining: 33m 13s\n",
      "605:\tlearn: 0.4974404\ttotal: 50m 57s\tremaining: 33m 8s\n",
      "606:\tlearn: 0.4972372\ttotal: 51m 2s\tremaining: 33m 2s\n",
      "607:\tlearn: 0.4971080\ttotal: 51m 6s\tremaining: 32m 57s\n",
      "608:\tlearn: 0.4969804\ttotal: 51m 10s\tremaining: 32m 51s\n",
      "609:\tlearn: 0.4968010\ttotal: 51m 15s\tremaining: 32m 46s\n",
      "610:\tlearn: 0.4964188\ttotal: 51m 20s\tremaining: 32m 41s\n",
      "611:\tlearn: 0.4961981\ttotal: 51m 24s\tremaining: 32m 35s\n",
      "612:\tlearn: 0.4960489\ttotal: 51m 28s\tremaining: 32m 30s\n",
      "613:\tlearn: 0.4958665\ttotal: 51m 33s\tremaining: 32m 24s\n",
      "614:\tlearn: 0.4956672\ttotal: 51m 37s\tremaining: 32m 19s\n",
      "615:\tlearn: 0.4954899\ttotal: 51m 42s\tremaining: 32m 13s\n",
      "616:\tlearn: 0.4950648\ttotal: 51m 47s\tremaining: 32m 8s\n",
      "617:\tlearn: 0.4947904\ttotal: 51m 51s\tremaining: 32m 3s\n",
      "618:\tlearn: 0.4946235\ttotal: 51m 56s\tremaining: 31m 58s\n",
      "619:\tlearn: 0.4943345\ttotal: 52m\tremaining: 31m 52s\n",
      "620:\tlearn: 0.4940507\ttotal: 52m 5s\tremaining: 31m 47s\n",
      "621:\tlearn: 0.4939017\ttotal: 52m 9s\tremaining: 31m 42s\n",
      "622:\tlearn: 0.4937073\ttotal: 52m 14s\tremaining: 31m 36s\n",
      "623:\tlearn: 0.4935755\ttotal: 52m 18s\tremaining: 31m 31s\n",
      "624:\tlearn: 0.4934091\ttotal: 52m 23s\tremaining: 31m 25s\n",
      "625:\tlearn: 0.4931882\ttotal: 52m 28s\tremaining: 31m 20s\n",
      "626:\tlearn: 0.4928698\ttotal: 52m 32s\tremaining: 31m 15s\n",
      "627:\tlearn: 0.4927407\ttotal: 52m 36s\tremaining: 31m 9s\n",
      "628:\tlearn: 0.4917954\ttotal: 52m 40s\tremaining: 31m 4s\n",
      "629:\tlearn: 0.4915984\ttotal: 52m 45s\tremaining: 30m 58s\n",
      "630:\tlearn: 0.4914062\ttotal: 52m 49s\tremaining: 30m 53s\n",
      "631:\tlearn: 0.4912008\ttotal: 52m 53s\tremaining: 30m 47s\n",
      "632:\tlearn: 0.4909101\ttotal: 52m 57s\tremaining: 30m 42s\n",
      "633:\tlearn: 0.4904686\ttotal: 53m 2s\tremaining: 30m 37s\n",
      "634:\tlearn: 0.4903288\ttotal: 53m 6s\tremaining: 30m 31s\n",
      "635:\tlearn: 0.4899567\ttotal: 53m 11s\tremaining: 30m 26s\n",
      "636:\tlearn: 0.4894623\ttotal: 53m 16s\tremaining: 30m 21s\n",
      "637:\tlearn: 0.4885416\ttotal: 53m 21s\tremaining: 30m 16s\n",
      "638:\tlearn: 0.4883619\ttotal: 53m 26s\tremaining: 30m 11s\n",
      "639:\tlearn: 0.4880982\ttotal: 53m 30s\tremaining: 30m 6s\n",
      "640:\tlearn: 0.4879091\ttotal: 53m 35s\tremaining: 30m\n",
      "641:\tlearn: 0.4873809\ttotal: 53m 39s\tremaining: 29m 55s\n",
      "642:\tlearn: 0.4871904\ttotal: 53m 44s\tremaining: 29m 50s\n",
      "643:\tlearn: 0.4870241\ttotal: 53m 48s\tremaining: 29m 44s\n",
      "644:\tlearn: 0.4868354\ttotal: 53m 53s\tremaining: 29m 39s\n",
      "645:\tlearn: 0.4861117\ttotal: 53m 57s\tremaining: 29m 34s\n",
      "646:\tlearn: 0.4858870\ttotal: 54m 1s\tremaining: 29m 28s\n",
      "647:\tlearn: 0.4857100\ttotal: 54m 5s\tremaining: 29m 23s\n",
      "648:\tlearn: 0.4854639\ttotal: 54m 10s\tremaining: 29m 17s\n",
      "649:\tlearn: 0.4853356\ttotal: 54m 14s\tremaining: 29m 12s\n",
      "650:\tlearn: 0.4851275\ttotal: 54m 19s\tremaining: 29m 7s\n",
      "651:\tlearn: 0.4849318\ttotal: 54m 23s\tremaining: 29m 1s\n",
      "652:\tlearn: 0.4845432\ttotal: 54m 27s\tremaining: 28m 56s\n",
      "653:\tlearn: 0.4843663\ttotal: 54m 32s\tremaining: 28m 51s\n",
      "654:\tlearn: 0.4842180\ttotal: 54m 36s\tremaining: 28m 45s\n",
      "655:\tlearn: 0.4837508\ttotal: 54m 40s\tremaining: 28m 40s\n",
      "656:\tlearn: 0.4829456\ttotal: 54m 45s\tremaining: 28m 35s\n",
      "657:\tlearn: 0.4822489\ttotal: 54m 50s\tremaining: 28m 30s\n",
      "658:\tlearn: 0.4818430\ttotal: 54m 54s\tremaining: 28m 24s\n",
      "659:\tlearn: 0.4817221\ttotal: 54m 59s\tremaining: 28m 19s\n",
      "660:\tlearn: 0.4815684\ttotal: 55m 3s\tremaining: 28m 14s\n",
      "661:\tlearn: 0.4812194\ttotal: 55m 7s\tremaining: 28m 8s\n",
      "662:\tlearn: 0.4809370\ttotal: 55m 12s\tremaining: 28m 3s\n",
      "663:\tlearn: 0.4807443\ttotal: 55m 16s\tremaining: 27m 58s\n",
      "664:\tlearn: 0.4801571\ttotal: 55m 21s\tremaining: 27m 53s\n",
      "665:\tlearn: 0.4796104\ttotal: 55m 26s\tremaining: 27m 48s\n",
      "666:\tlearn: 0.4794333\ttotal: 55m 30s\tremaining: 27m 42s\n",
      "667:\tlearn: 0.4792562\ttotal: 55m 34s\tremaining: 27m 37s\n",
      "668:\tlearn: 0.4791281\ttotal: 55m 39s\tremaining: 27m 32s\n",
      "669:\tlearn: 0.4789402\ttotal: 55m 43s\tremaining: 27m 26s\n",
      "670:\tlearn: 0.4784244\ttotal: 55m 47s\tremaining: 27m 21s\n",
      "671:\tlearn: 0.4782196\ttotal: 55m 52s\tremaining: 27m 16s\n",
      "672:\tlearn: 0.4780466\ttotal: 55m 57s\tremaining: 27m 11s\n",
      "673:\tlearn: 0.4778639\ttotal: 56m 1s\tremaining: 27m 6s\n",
      "674:\tlearn: 0.4776502\ttotal: 56m 8s\tremaining: 27m 1s\n",
      "675:\tlearn: 0.4774480\ttotal: 56m 16s\tremaining: 26m 58s\n",
      "676:\tlearn: 0.4767143\ttotal: 56m 23s\tremaining: 26m 54s\n",
      "677:\tlearn: 0.4762678\ttotal: 56m 29s\tremaining: 26m 49s\n",
      "678:\tlearn: 0.4761122\ttotal: 56m 37s\tremaining: 26m 45s\n",
      "679:\tlearn: 0.4759651\ttotal: 56m 44s\tremaining: 26m 41s\n",
      "680:\tlearn: 0.4758020\ttotal: 56m 51s\tremaining: 26m 37s\n",
      "681:\tlearn: 0.4756270\ttotal: 56m 57s\tremaining: 26m 33s\n",
      "682:\tlearn: 0.4746249\ttotal: 57m 2s\tremaining: 26m 28s\n",
      "683:\tlearn: 0.4744956\ttotal: 57m 7s\tremaining: 26m 23s\n",
      "684:\tlearn: 0.4743454\ttotal: 57m 13s\tremaining: 26m 19s\n",
      "685:\tlearn: 0.4741949\ttotal: 57m 20s\tremaining: 26m 15s\n",
      "686:\tlearn: 0.4740378\ttotal: 57m 28s\tremaining: 26m 11s\n",
      "687:\tlearn: 0.4737740\ttotal: 57m 34s\tremaining: 26m 6s\n",
      "688:\tlearn: 0.4736098\ttotal: 57m 39s\tremaining: 26m 1s\n",
      "689:\tlearn: 0.4733348\ttotal: 57m 44s\tremaining: 25m 56s\n",
      "690:\tlearn: 0.4729899\ttotal: 57m 48s\tremaining: 25m 51s\n",
      "691:\tlearn: 0.4727600\ttotal: 57m 53s\tremaining: 25m 46s\n",
      "692:\tlearn: 0.4725799\ttotal: 57m 58s\tremaining: 25m 40s\n",
      "693:\tlearn: 0.4724541\ttotal: 58m 3s\tremaining: 25m 36s\n",
      "694:\tlearn: 0.4722976\ttotal: 58m 8s\tremaining: 25m 30s\n",
      "695:\tlearn: 0.4719517\ttotal: 58m 13s\tremaining: 25m 25s\n",
      "696:\tlearn: 0.4718132\ttotal: 58m 17s\tremaining: 25m 20s\n",
      "697:\tlearn: 0.4715690\ttotal: 58m 22s\tremaining: 25m 15s\n",
      "698:\tlearn: 0.4712537\ttotal: 58m 27s\tremaining: 25m 10s\n",
      "699:\tlearn: 0.4705979\ttotal: 58m 32s\tremaining: 25m 5s\n",
      "700:\tlearn: 0.4703773\ttotal: 58m 36s\tremaining: 25m\n",
      "701:\tlearn: 0.4700696\ttotal: 58m 41s\tremaining: 24m 54s\n",
      "702:\tlearn: 0.4698592\ttotal: 58m 46s\tremaining: 24m 49s\n",
      "703:\tlearn: 0.4696053\ttotal: 58m 50s\tremaining: 24m 44s\n",
      "704:\tlearn: 0.4688243\ttotal: 58m 55s\tremaining: 24m 39s\n",
      "705:\tlearn: 0.4686755\ttotal: 58m 59s\tremaining: 24m 34s\n",
      "706:\tlearn: 0.4684932\ttotal: 59m 4s\tremaining: 24m 29s\n",
      "707:\tlearn: 0.4676243\ttotal: 59m 10s\tremaining: 24m 24s\n",
      "708:\tlearn: 0.4674819\ttotal: 59m 14s\tremaining: 24m 19s\n",
      "709:\tlearn: 0.4673579\ttotal: 59m 19s\tremaining: 24m 13s\n",
      "710:\tlearn: 0.4668425\ttotal: 59m 23s\tremaining: 24m 8s\n",
      "711:\tlearn: 0.4665727\ttotal: 59m 28s\tremaining: 24m 3s\n",
      "712:\tlearn: 0.4664160\ttotal: 59m 33s\tremaining: 23m 58s\n",
      "713:\tlearn: 0.4663026\ttotal: 59m 38s\tremaining: 23m 53s\n",
      "714:\tlearn: 0.4661244\ttotal: 59m 42s\tremaining: 23m 48s\n",
      "715:\tlearn: 0.4657540\ttotal: 59m 47s\tremaining: 23m 42s\n",
      "716:\tlearn: 0.4654345\ttotal: 59m 52s\tremaining: 23m 37s\n",
      "717:\tlearn: 0.4651495\ttotal: 59m 57s\tremaining: 23m 32s\n",
      "718:\tlearn: 0.4650008\ttotal: 1h 2s\tremaining: 23m 27s\n",
      "719:\tlearn: 0.4648700\ttotal: 1h 7s\tremaining: 23m 22s\n",
      "720:\tlearn: 0.4646666\ttotal: 1h 12s\tremaining: 23m 17s\n",
      "721:\tlearn: 0.4644690\ttotal: 1h 17s\tremaining: 23m 13s\n",
      "722:\tlearn: 0.4642115\ttotal: 1h 23s\tremaining: 23m 8s\n",
      "723:\tlearn: 0.4640181\ttotal: 1h 29s\tremaining: 23m 3s\n",
      "724:\tlearn: 0.4638683\ttotal: 1h 35s\tremaining: 22m 59s\n",
      "725:\tlearn: 0.4633958\ttotal: 1h 41s\tremaining: 22m 54s\n",
      "726:\tlearn: 0.4630364\ttotal: 1h 47s\tremaining: 22m 49s\n",
      "727:\tlearn: 0.4628315\ttotal: 1h 52s\tremaining: 22m 44s\n",
      "728:\tlearn: 0.4626210\ttotal: 1h 56s\tremaining: 22m 39s\n",
      "729:\tlearn: 0.4624433\ttotal: 1h 1m 3s\tremaining: 22m 34s\n",
      "730:\tlearn: 0.4622902\ttotal: 1h 1m 9s\tremaining: 22m 30s\n",
      "731:\tlearn: 0.4621976\ttotal: 1h 1m 17s\tremaining: 22m 26s\n",
      "732:\tlearn: 0.4618043\ttotal: 1h 1m 23s\tremaining: 22m 21s\n",
      "733:\tlearn: 0.4613868\ttotal: 1h 1m 29s\tremaining: 22m 17s\n"
     ]
    },
    {
     "name": "stdout",
     "output_type": "stream",
     "text": [
      "734:\tlearn: 0.4611544\ttotal: 1h 1m 36s\tremaining: 22m 12s\n",
      "735:\tlearn: 0.4609692\ttotal: 1h 1m 42s\tremaining: 22m 7s\n",
      "736:\tlearn: 0.4607782\ttotal: 1h 1m 49s\tremaining: 22m 3s\n",
      "737:\tlearn: 0.4604067\ttotal: 1h 1m 55s\tremaining: 21m 59s\n",
      "738:\tlearn: 0.4600528\ttotal: 1h 2m 2s\tremaining: 21m 54s\n",
      "739:\tlearn: 0.4598494\ttotal: 1h 2m 8s\tremaining: 21m 50s\n",
      "740:\tlearn: 0.4596753\ttotal: 1h 2m 14s\tremaining: 21m 45s\n",
      "741:\tlearn: 0.4593226\ttotal: 1h 2m 19s\tremaining: 21m 40s\n",
      "742:\tlearn: 0.4591645\ttotal: 1h 2m 26s\tremaining: 21m 35s\n",
      "743:\tlearn: 0.4589777\ttotal: 1h 2m 31s\tremaining: 21m 30s\n",
      "744:\tlearn: 0.4588349\ttotal: 1h 2m 36s\tremaining: 21m 25s\n",
      "745:\tlearn: 0.4584952\ttotal: 1h 2m 42s\tremaining: 21m 21s\n",
      "746:\tlearn: 0.4583064\ttotal: 1h 2m 47s\tremaining: 21m 16s\n",
      "747:\tlearn: 0.4578395\ttotal: 1h 2m 53s\tremaining: 21m 11s\n",
      "748:\tlearn: 0.4577034\ttotal: 1h 2m 59s\tremaining: 21m 6s\n",
      "749:\tlearn: 0.4574683\ttotal: 1h 3m 4s\tremaining: 21m 1s\n",
      "750:\tlearn: 0.4572802\ttotal: 1h 3m 10s\tremaining: 20m 56s\n",
      "751:\tlearn: 0.4568015\ttotal: 1h 3m 14s\tremaining: 20m 51s\n",
      "752:\tlearn: 0.4566214\ttotal: 1h 3m 19s\tremaining: 20m 46s\n",
      "753:\tlearn: 0.4561978\ttotal: 1h 3m 24s\tremaining: 20m 41s\n",
      "754:\tlearn: 0.4560201\ttotal: 1h 3m 28s\tremaining: 20m 36s\n",
      "755:\tlearn: 0.4557414\ttotal: 1h 3m 33s\tremaining: 20m 30s\n",
      "756:\tlearn: 0.4555886\ttotal: 1h 3m 37s\tremaining: 20m 25s\n",
      "757:\tlearn: 0.4553663\ttotal: 1h 3m 42s\tremaining: 20m 20s\n",
      "758:\tlearn: 0.4551554\ttotal: 1h 3m 46s\tremaining: 20m 15s\n",
      "759:\tlearn: 0.4548971\ttotal: 1h 3m 50s\tremaining: 20m 9s\n",
      "760:\tlearn: 0.4547116\ttotal: 1h 3m 55s\tremaining: 20m 4s\n",
      "761:\tlearn: 0.4544932\ttotal: 1h 3m 59s\tremaining: 19m 59s\n",
      "762:\tlearn: 0.4543202\ttotal: 1h 4m 3s\tremaining: 19m 54s\n",
      "763:\tlearn: 0.4541368\ttotal: 1h 4m 8s\tremaining: 19m 48s\n",
      "764:\tlearn: 0.4539871\ttotal: 1h 4m 12s\tremaining: 19m 43s\n",
      "765:\tlearn: 0.4537432\ttotal: 1h 4m 17s\tremaining: 19m 38s\n",
      "766:\tlearn: 0.4532576\ttotal: 1h 4m 21s\tremaining: 19m 33s\n",
      "767:\tlearn: 0.4530670\ttotal: 1h 4m 26s\tremaining: 19m 27s\n",
      "768:\tlearn: 0.4529139\ttotal: 1h 4m 30s\tremaining: 19m 22s\n",
      "769:\tlearn: 0.4526875\ttotal: 1h 4m 35s\tremaining: 19m 17s\n",
      "770:\tlearn: 0.4525423\ttotal: 1h 4m 39s\tremaining: 19m 12s\n",
      "771:\tlearn: 0.4521057\ttotal: 1h 4m 44s\tremaining: 19m 7s\n",
      "772:\tlearn: 0.4519179\ttotal: 1h 4m 48s\tremaining: 19m 1s\n",
      "773:\tlearn: 0.4517791\ttotal: 1h 4m 53s\tremaining: 18m 56s\n",
      "774:\tlearn: 0.4515923\ttotal: 1h 4m 57s\tremaining: 18m 51s\n",
      "775:\tlearn: 0.4513721\ttotal: 1h 5m 1s\tremaining: 18m 46s\n",
      "776:\tlearn: 0.4512267\ttotal: 1h 5m 5s\tremaining: 18m 41s\n",
      "777:\tlearn: 0.4510130\ttotal: 1h 5m 10s\tremaining: 18m 35s\n",
      "778:\tlearn: 0.4507968\ttotal: 1h 5m 15s\tremaining: 18m 30s\n",
      "779:\tlearn: 0.4506124\ttotal: 1h 5m 19s\tremaining: 18m 25s\n",
      "780:\tlearn: 0.4497641\ttotal: 1h 5m 23s\tremaining: 18m 20s\n",
      "781:\tlearn: 0.4496009\ttotal: 1h 5m 28s\tremaining: 18m 15s\n",
      "782:\tlearn: 0.4491281\ttotal: 1h 5m 32s\tremaining: 18m 9s\n",
      "783:\tlearn: 0.4483521\ttotal: 1h 5m 37s\tremaining: 18m 4s\n",
      "784:\tlearn: 0.4481770\ttotal: 1h 5m 42s\tremaining: 17m 59s\n",
      "785:\tlearn: 0.4480261\ttotal: 1h 5m 46s\tremaining: 17m 54s\n",
      "786:\tlearn: 0.4478692\ttotal: 1h 5m 50s\tremaining: 17m 49s\n",
      "787:\tlearn: 0.4472920\ttotal: 1h 5m 55s\tremaining: 17m 44s\n",
      "788:\tlearn: 0.4463957\ttotal: 1h 5m 59s\tremaining: 17m 38s\n",
      "789:\tlearn: 0.4460757\ttotal: 1h 6m 4s\tremaining: 17m 33s\n",
      "790:\tlearn: 0.4458443\ttotal: 1h 6m 8s\tremaining: 17m 28s\n",
      "791:\tlearn: 0.4455068\ttotal: 1h 6m 13s\tremaining: 17m 23s\n",
      "792:\tlearn: 0.4453283\ttotal: 1h 6m 17s\tremaining: 17m 18s\n",
      "793:\tlearn: 0.4451209\ttotal: 1h 6m 21s\tremaining: 17m 13s\n",
      "794:\tlearn: 0.4450032\ttotal: 1h 6m 26s\tremaining: 17m 7s\n",
      "795:\tlearn: 0.4448076\ttotal: 1h 6m 30s\tremaining: 17m 2s\n",
      "796:\tlearn: 0.4446186\ttotal: 1h 6m 34s\tremaining: 16m 57s\n",
      "797:\tlearn: 0.4444210\ttotal: 1h 6m 39s\tremaining: 16m 52s\n",
      "798:\tlearn: 0.4443148\ttotal: 1h 6m 43s\tremaining: 16m 47s\n",
      "799:\tlearn: 0.4441874\ttotal: 1h 6m 47s\tremaining: 16m 41s\n",
      "800:\tlearn: 0.4436373\ttotal: 1h 6m 52s\tremaining: 16m 36s\n",
      "801:\tlearn: 0.4435131\ttotal: 1h 6m 56s\tremaining: 16m 31s\n",
      "802:\tlearn: 0.4433693\ttotal: 1h 7m 2s\tremaining: 16m 26s\n",
      "803:\tlearn: 0.4432154\ttotal: 1h 7m 6s\tremaining: 16m 21s\n",
      "804:\tlearn: 0.4429999\ttotal: 1h 7m 11s\tremaining: 16m 16s\n",
      "805:\tlearn: 0.4424921\ttotal: 1h 7m 17s\tremaining: 16m 11s\n",
      "806:\tlearn: 0.4423349\ttotal: 1h 7m 22s\tremaining: 16m 6s\n",
      "807:\tlearn: 0.4421906\ttotal: 1h 7m 27s\tremaining: 16m 1s\n",
      "808:\tlearn: 0.4420627\ttotal: 1h 7m 31s\tremaining: 15m 56s\n",
      "809:\tlearn: 0.4418714\ttotal: 1h 7m 35s\tremaining: 15m 51s\n",
      "810:\tlearn: 0.4417617\ttotal: 1h 7m 40s\tremaining: 15m 46s\n",
      "811:\tlearn: 0.4410986\ttotal: 1h 7m 44s\tremaining: 15m 41s\n",
      "812:\tlearn: 0.4408640\ttotal: 1h 7m 48s\tremaining: 15m 35s\n",
      "813:\tlearn: 0.4407067\ttotal: 1h 7m 53s\tremaining: 15m 30s\n",
      "814:\tlearn: 0.4404819\ttotal: 1h 7m 58s\tremaining: 15m 25s\n",
      "815:\tlearn: 0.4403577\ttotal: 1h 8m 2s\tremaining: 15m 20s\n",
      "816:\tlearn: 0.4401966\ttotal: 1h 8m 7s\tremaining: 15m 15s\n",
      "817:\tlearn: 0.4400590\ttotal: 1h 8m 11s\tremaining: 15m 10s\n",
      "818:\tlearn: 0.4393809\ttotal: 1h 8m 15s\tremaining: 15m 5s\n",
      "819:\tlearn: 0.4392304\ttotal: 1h 8m 20s\tremaining: 15m\n",
      "820:\tlearn: 0.4391233\ttotal: 1h 8m 24s\tremaining: 14m 54s\n",
      "821:\tlearn: 0.4389708\ttotal: 1h 8m 28s\tremaining: 14m 49s\n",
      "822:\tlearn: 0.4387538\ttotal: 1h 8m 33s\tremaining: 14m 44s\n",
      "823:\tlearn: 0.4385860\ttotal: 1h 8m 37s\tremaining: 14m 39s\n",
      "824:\tlearn: 0.4382981\ttotal: 1h 8m 42s\tremaining: 14m 34s\n",
      "825:\tlearn: 0.4381965\ttotal: 1h 8m 46s\tremaining: 14m 29s\n",
      "826:\tlearn: 0.4380539\ttotal: 1h 8m 50s\tremaining: 14m 24s\n",
      "827:\tlearn: 0.4377910\ttotal: 1h 8m 54s\tremaining: 14m 18s\n",
      "828:\tlearn: 0.4376573\ttotal: 1h 8m 59s\tremaining: 14m 13s\n",
      "829:\tlearn: 0.4372222\ttotal: 1h 9m 3s\tremaining: 14m 8s\n",
      "830:\tlearn: 0.4370699\ttotal: 1h 9m 8s\tremaining: 14m 3s\n",
      "831:\tlearn: 0.4368808\ttotal: 1h 9m 12s\tremaining: 13m 58s\n",
      "832:\tlearn: 0.4365593\ttotal: 1h 9m 16s\tremaining: 13m 53s\n",
      "833:\tlearn: 0.4364224\ttotal: 1h 9m 21s\tremaining: 13m 48s\n",
      "834:\tlearn: 0.4361506\ttotal: 1h 9m 25s\tremaining: 13m 43s\n",
      "835:\tlearn: 0.4360240\ttotal: 1h 9m 30s\tremaining: 13m 38s\n",
      "836:\tlearn: 0.4356188\ttotal: 1h 9m 34s\tremaining: 13m 33s\n",
      "837:\tlearn: 0.4353948\ttotal: 1h 9m 39s\tremaining: 13m 27s\n",
      "838:\tlearn: 0.4352277\ttotal: 1h 9m 43s\tremaining: 13m 22s\n",
      "839:\tlearn: 0.4350314\ttotal: 1h 9m 48s\tremaining: 13m 17s\n",
      "840:\tlearn: 0.4349476\ttotal: 1h 9m 52s\tremaining: 13m 12s\n",
      "841:\tlearn: 0.4347902\ttotal: 1h 9m 56s\tremaining: 13m 7s\n",
      "842:\tlearn: 0.4344543\ttotal: 1h 10m\tremaining: 13m 2s\n",
      "843:\tlearn: 0.4337951\ttotal: 1h 10m 5s\tremaining: 12m 57s\n",
      "844:\tlearn: 0.4336054\ttotal: 1h 10m 9s\tremaining: 12m 52s\n",
      "845:\tlearn: 0.4332105\ttotal: 1h 10m 14s\tremaining: 12m 47s\n",
      "846:\tlearn: 0.4330116\ttotal: 1h 10m 18s\tremaining: 12m 42s\n",
      "847:\tlearn: 0.4328082\ttotal: 1h 10m 24s\tremaining: 12m 37s\n",
      "848:\tlearn: 0.4326614\ttotal: 1h 10m 28s\tremaining: 12m 32s\n",
      "849:\tlearn: 0.4325183\ttotal: 1h 10m 33s\tremaining: 12m 27s\n",
      "850:\tlearn: 0.4322879\ttotal: 1h 10m 37s\tremaining: 12m 21s\n",
      "851:\tlearn: 0.4321042\ttotal: 1h 10m 42s\tremaining: 12m 16s\n",
      "852:\tlearn: 0.4320097\ttotal: 1h 10m 46s\tremaining: 12m 11s\n",
      "853:\tlearn: 0.4318573\ttotal: 1h 10m 50s\tremaining: 12m 6s\n",
      "854:\tlearn: 0.4314362\ttotal: 1h 10m 55s\tremaining: 12m 1s\n",
      "855:\tlearn: 0.4310817\ttotal: 1h 10m 59s\tremaining: 11m 56s\n",
      "856:\tlearn: 0.4309591\ttotal: 1h 11m 4s\tremaining: 11m 51s\n",
      "857:\tlearn: 0.4307918\ttotal: 1h 11m 8s\tremaining: 11m 46s\n",
      "858:\tlearn: 0.4305193\ttotal: 1h 11m 13s\tremaining: 11m 41s\n",
      "859:\tlearn: 0.4304332\ttotal: 1h 11m 17s\tremaining: 11m 36s\n",
      "860:\tlearn: 0.4301485\ttotal: 1h 11m 21s\tremaining: 11m 31s\n",
      "861:\tlearn: 0.4300019\ttotal: 1h 11m 26s\tremaining: 11m 26s\n",
      "862:\tlearn: 0.4298778\ttotal: 1h 11m 31s\tremaining: 11m 21s\n",
      "863:\tlearn: 0.4297722\ttotal: 1h 11m 35s\tremaining: 11m 16s\n",
      "864:\tlearn: 0.4291809\ttotal: 1h 11m 39s\tremaining: 11m 11s\n",
      "865:\tlearn: 0.4289277\ttotal: 1h 11m 43s\tremaining: 11m 5s\n",
      "866:\tlearn: 0.4287727\ttotal: 1h 11m 48s\tremaining: 11m\n",
      "867:\tlearn: 0.4285382\ttotal: 1h 11m 52s\tremaining: 10m 55s\n",
      "868:\tlearn: 0.4283624\ttotal: 1h 11m 57s\tremaining: 10m 50s\n",
      "869:\tlearn: 0.4281726\ttotal: 1h 12m 1s\tremaining: 10m 45s\n",
      "870:\tlearn: 0.4280376\ttotal: 1h 12m 6s\tremaining: 10m 40s\n",
      "871:\tlearn: 0.4279089\ttotal: 1h 12m 10s\tremaining: 10m 35s\n",
      "872:\tlearn: 0.4277421\ttotal: 1h 12m 15s\tremaining: 10m 30s\n",
      "873:\tlearn: 0.4275504\ttotal: 1h 12m 19s\tremaining: 10m 25s\n",
      "874:\tlearn: 0.4273474\ttotal: 1h 12m 23s\tremaining: 10m 20s\n",
      "875:\tlearn: 0.4269661\ttotal: 1h 12m 27s\tremaining: 10m 15s\n"
     ]
    },
    {
     "name": "stdout",
     "output_type": "stream",
     "text": [
      "876:\tlearn: 0.4263896\ttotal: 1h 12m 32s\tremaining: 10m 10s\n",
      "877:\tlearn: 0.4260844\ttotal: 1h 12m 37s\tremaining: 10m 5s\n",
      "878:\tlearn: 0.4259984\ttotal: 1h 12m 41s\tremaining: 10m\n",
      "879:\tlearn: 0.4258520\ttotal: 1h 12m 45s\tremaining: 9m 55s\n",
      "880:\tlearn: 0.4256608\ttotal: 1h 12m 50s\tremaining: 9m 50s\n",
      "881:\tlearn: 0.4254921\ttotal: 1h 12m 55s\tremaining: 9m 45s\n",
      "882:\tlearn: 0.4252535\ttotal: 1h 12m 59s\tremaining: 9m 40s\n",
      "883:\tlearn: 0.4250883\ttotal: 1h 13m 4s\tremaining: 9m 35s\n",
      "884:\tlearn: 0.4248553\ttotal: 1h 13m 8s\tremaining: 9m 30s\n",
      "885:\tlearn: 0.4247514\ttotal: 1h 13m 12s\tremaining: 9m 25s\n",
      "886:\tlearn: 0.4245965\ttotal: 1h 13m 17s\tremaining: 9m 20s\n",
      "887:\tlearn: 0.4244641\ttotal: 1h 13m 21s\tremaining: 9m 15s\n",
      "888:\tlearn: 0.4243157\ttotal: 1h 13m 26s\tremaining: 9m 10s\n",
      "889:\tlearn: 0.4241853\ttotal: 1h 13m 30s\tremaining: 9m 5s\n",
      "890:\tlearn: 0.4240213\ttotal: 1h 13m 34s\tremaining: 9m\n",
      "891:\tlearn: 0.4236957\ttotal: 1h 13m 39s\tremaining: 8m 55s\n",
      "892:\tlearn: 0.4234701\ttotal: 1h 13m 43s\tremaining: 8m 50s\n",
      "893:\tlearn: 0.4233542\ttotal: 1h 13m 48s\tremaining: 8m 45s\n",
      "894:\tlearn: 0.4231643\ttotal: 1h 13m 53s\tremaining: 8m 40s\n",
      "895:\tlearn: 0.4229079\ttotal: 1h 13m 57s\tremaining: 8m 35s\n",
      "896:\tlearn: 0.4227767\ttotal: 1h 14m 1s\tremaining: 8m 29s\n",
      "897:\tlearn: 0.4223459\ttotal: 1h 14m 5s\tremaining: 8m 24s\n",
      "898:\tlearn: 0.4220263\ttotal: 1h 14m 10s\tremaining: 8m 19s\n",
      "899:\tlearn: 0.4218292\ttotal: 1h 14m 14s\tremaining: 8m 14s\n",
      "900:\tlearn: 0.4216124\ttotal: 1h 14m 19s\tremaining: 8m 9s\n",
      "901:\tlearn: 0.4212438\ttotal: 1h 14m 23s\tremaining: 8m 4s\n",
      "902:\tlearn: 0.4211260\ttotal: 1h 14m 27s\tremaining: 7m 59s\n",
      "903:\tlearn: 0.4208897\ttotal: 1h 14m 31s\tremaining: 7m 54s\n",
      "904:\tlearn: 0.4206786\ttotal: 1h 14m 36s\tremaining: 7m 49s\n",
      "905:\tlearn: 0.4202140\ttotal: 1h 14m 40s\tremaining: 7m 44s\n",
      "906:\tlearn: 0.4200609\ttotal: 1h 14m 44s\tremaining: 7m 39s\n",
      "907:\tlearn: 0.4198753\ttotal: 1h 14m 49s\tremaining: 7m 34s\n",
      "908:\tlearn: 0.4197449\ttotal: 1h 14m 54s\tremaining: 7m 29s\n",
      "909:\tlearn: 0.4192184\ttotal: 1h 14m 58s\tremaining: 7m 24s\n",
      "910:\tlearn: 0.4190614\ttotal: 1h 15m 3s\tremaining: 7m 19s\n",
      "911:\tlearn: 0.4187792\ttotal: 1h 15m 7s\tremaining: 7m 14s\n",
      "912:\tlearn: 0.4185335\ttotal: 1h 15m 11s\tremaining: 7m 9s\n",
      "913:\tlearn: 0.4184016\ttotal: 1h 15m 15s\tremaining: 7m 4s\n",
      "914:\tlearn: 0.4182756\ttotal: 1h 15m 20s\tremaining: 6m 59s\n",
      "915:\tlearn: 0.4180049\ttotal: 1h 15m 25s\tremaining: 6m 54s\n",
      "916:\tlearn: 0.4178841\ttotal: 1h 15m 29s\tremaining: 6m 49s\n",
      "917:\tlearn: 0.4177464\ttotal: 1h 15m 33s\tremaining: 6m 44s\n",
      "918:\tlearn: 0.4175818\ttotal: 1h 15m 38s\tremaining: 6m 39s\n",
      "919:\tlearn: 0.4174844\ttotal: 1h 15m 42s\tremaining: 6m 34s\n",
      "920:\tlearn: 0.4173000\ttotal: 1h 15m 46s\tremaining: 6m 30s\n",
      "921:\tlearn: 0.4167445\ttotal: 1h 15m 51s\tremaining: 6m 25s\n",
      "922:\tlearn: 0.4165530\ttotal: 1h 15m 55s\tremaining: 6m 20s\n",
      "923:\tlearn: 0.4163912\ttotal: 1h 16m\tremaining: 6m 15s\n",
      "924:\tlearn: 0.4162170\ttotal: 1h 16m 5s\tremaining: 6m 10s\n",
      "925:\tlearn: 0.4157980\ttotal: 1h 16m 9s\tremaining: 6m 5s\n",
      "926:\tlearn: 0.4156596\ttotal: 1h 16m 13s\tremaining: 6m\n",
      "927:\tlearn: 0.4153653\ttotal: 1h 16m 17s\tremaining: 5m 55s\n",
      "928:\tlearn: 0.4151255\ttotal: 1h 16m 21s\tremaining: 5m 50s\n",
      "929:\tlearn: 0.4149566\ttotal: 1h 16m 26s\tremaining: 5m 45s\n",
      "930:\tlearn: 0.4148561\ttotal: 1h 16m 30s\tremaining: 5m 40s\n",
      "931:\tlearn: 0.4147549\ttotal: 1h 16m 35s\tremaining: 5m 35s\n",
      "932:\tlearn: 0.4146292\ttotal: 1h 16m 39s\tremaining: 5m 30s\n",
      "933:\tlearn: 0.4143826\ttotal: 1h 16m 43s\tremaining: 5m 25s\n",
      "934:\tlearn: 0.4141720\ttotal: 1h 16m 48s\tremaining: 5m 20s\n",
      "935:\tlearn: 0.4140127\ttotal: 1h 16m 52s\tremaining: 5m 15s\n",
      "936:\tlearn: 0.4138690\ttotal: 1h 16m 56s\tremaining: 5m 10s\n",
      "937:\tlearn: 0.4137525\ttotal: 1h 17m\tremaining: 5m 5s\n",
      "938:\tlearn: 0.4136165\ttotal: 1h 17m 5s\tremaining: 5m\n",
      "939:\tlearn: 0.4131956\ttotal: 1h 17m 9s\tremaining: 4m 55s\n",
      "940:\tlearn: 0.4130294\ttotal: 1h 17m 14s\tremaining: 4m 50s\n",
      "941:\tlearn: 0.4126006\ttotal: 1h 17m 18s\tremaining: 4m 45s\n",
      "942:\tlearn: 0.4123748\ttotal: 1h 17m 23s\tremaining: 4m 40s\n",
      "943:\tlearn: 0.4122822\ttotal: 1h 17m 27s\tremaining: 4m 35s\n",
      "944:\tlearn: 0.4121653\ttotal: 1h 17m 31s\tremaining: 4m 30s\n",
      "945:\tlearn: 0.4115849\ttotal: 1h 17m 36s\tremaining: 4m 25s\n",
      "946:\tlearn: 0.4114183\ttotal: 1h 17m 40s\tremaining: 4m 20s\n",
      "947:\tlearn: 0.4113168\ttotal: 1h 17m 45s\tremaining: 4m 15s\n",
      "948:\tlearn: 0.4110608\ttotal: 1h 17m 49s\tremaining: 4m 10s\n",
      "949:\tlearn: 0.4102876\ttotal: 1h 17m 53s\tremaining: 4m 5s\n",
      "950:\tlearn: 0.4101267\ttotal: 1h 17m 57s\tremaining: 4m 1s\n",
      "951:\tlearn: 0.4097035\ttotal: 1h 18m 2s\tremaining: 3m 56s\n",
      "952:\tlearn: 0.4095272\ttotal: 1h 18m 6s\tremaining: 3m 51s\n",
      "953:\tlearn: 0.4093578\ttotal: 1h 18m 10s\tremaining: 3m 46s\n",
      "954:\tlearn: 0.4091343\ttotal: 1h 18m 14s\tremaining: 3m 41s\n",
      "955:\tlearn: 0.4089535\ttotal: 1h 18m 19s\tremaining: 3m 36s\n",
      "956:\tlearn: 0.4087769\ttotal: 1h 18m 24s\tremaining: 3m 31s\n",
      "957:\tlearn: 0.4085724\ttotal: 1h 18m 29s\tremaining: 3m 26s\n",
      "958:\tlearn: 0.4084106\ttotal: 1h 18m 33s\tremaining: 3m 21s\n",
      "959:\tlearn: 0.4082529\ttotal: 1h 18m 38s\tremaining: 3m 16s\n",
      "960:\tlearn: 0.4080977\ttotal: 1h 18m 42s\tremaining: 3m 11s\n",
      "961:\tlearn: 0.4079445\ttotal: 1h 18m 46s\tremaining: 3m 6s\n",
      "962:\tlearn: 0.4077819\ttotal: 1h 18m 51s\tremaining: 3m 1s\n",
      "963:\tlearn: 0.4075940\ttotal: 1h 18m 55s\tremaining: 2m 56s\n",
      "964:\tlearn: 0.4074668\ttotal: 1h 19m\tremaining: 2m 51s\n",
      "965:\tlearn: 0.4073155\ttotal: 1h 19m 4s\tremaining: 2m 46s\n",
      "966:\tlearn: 0.4071975\ttotal: 1h 19m 8s\tremaining: 2m 42s\n",
      "967:\tlearn: 0.4066486\ttotal: 1h 19m 13s\tremaining: 2m 37s\n",
      "968:\tlearn: 0.4064739\ttotal: 1h 19m 17s\tremaining: 2m 32s\n",
      "969:\tlearn: 0.4063588\ttotal: 1h 19m 21s\tremaining: 2m 27s\n",
      "970:\tlearn: 0.4062725\ttotal: 1h 19m 26s\tremaining: 2m 22s\n",
      "971:\tlearn: 0.4060723\ttotal: 1h 19m 31s\tremaining: 2m 17s\n",
      "972:\tlearn: 0.4059684\ttotal: 1h 19m 35s\tremaining: 2m 12s\n",
      "973:\tlearn: 0.4057085\ttotal: 1h 19m 41s\tremaining: 2m 7s\n",
      "974:\tlearn: 0.4056185\ttotal: 1h 19m 46s\tremaining: 2m 2s\n",
      "975:\tlearn: 0.4054426\ttotal: 1h 19m 50s\tremaining: 1m 57s\n",
      "976:\tlearn: 0.4052943\ttotal: 1h 19m 54s\tremaining: 1m 52s\n",
      "977:\tlearn: 0.4051737\ttotal: 1h 19m 59s\tremaining: 1m 47s\n",
      "978:\tlearn: 0.4049617\ttotal: 1h 20m 3s\tremaining: 1m 43s\n",
      "979:\tlearn: 0.4048554\ttotal: 1h 20m 8s\tremaining: 1m 38s\n",
      "980:\tlearn: 0.4047065\ttotal: 1h 20m 14s\tremaining: 1m 33s\n",
      "981:\tlearn: 0.4045695\ttotal: 1h 20m 18s\tremaining: 1m 28s\n",
      "982:\tlearn: 0.4043161\ttotal: 1h 20m 22s\tremaining: 1m 23s\n",
      "983:\tlearn: 0.4037926\ttotal: 1h 20m 26s\tremaining: 1m 18s\n",
      "984:\tlearn: 0.4036714\ttotal: 1h 20m 30s\tremaining: 1m 13s\n",
      "985:\tlearn: 0.4035503\ttotal: 1h 20m 35s\tremaining: 1m 8s\n",
      "986:\tlearn: 0.4026180\ttotal: 1h 20m 40s\tremaining: 1m 3s\n",
      "987:\tlearn: 0.4024288\ttotal: 1h 20m 45s\tremaining: 58.8s\n",
      "988:\tlearn: 0.4022944\ttotal: 1h 20m 48s\tremaining: 53.9s\n",
      "989:\tlearn: 0.4016409\ttotal: 1h 20m 52s\tremaining: 49s\n",
      "990:\tlearn: 0.4008666\ttotal: 1h 20m 57s\tremaining: 44.1s\n",
      "991:\tlearn: 0.4006759\ttotal: 1h 21m 1s\tremaining: 39.2s\n",
      "992:\tlearn: 0.4005027\ttotal: 1h 21m 5s\tremaining: 34.3s\n",
      "993:\tlearn: 0.4003287\ttotal: 1h 21m 9s\tremaining: 29.4s\n",
      "994:\tlearn: 0.4002141\ttotal: 1h 21m 15s\tremaining: 24.5s\n",
      "995:\tlearn: 0.3999095\ttotal: 1h 21m 19s\tremaining: 19.6s\n",
      "996:\tlearn: 0.3997054\ttotal: 1h 21m 24s\tremaining: 14.7s\n",
      "997:\tlearn: 0.3994544\ttotal: 1h 21m 28s\tremaining: 9.8s\n",
      "998:\tlearn: 0.3993581\ttotal: 1h 21m 32s\tremaining: 4.9s\n",
      "999:\tlearn: 0.3992188\ttotal: 1h 21m 36s\tremaining: 0us\n"
     ]
    },
    {
     "data": {
      "text/plain": [
       "Pipeline(steps=[('tf',\n",
       "                 TfidfVectorizer(min_df=5, ngram_range=(1, 2),\n",
       "                                 stop_words='english', sublinear_tf=True)),\n",
       "                ('clf',\n",
       "                 <catboost.core.CatBoostClassifier object at 0x000001F9A34B4490>)])"
      ]
     },
     "execution_count": 66,
     "metadata": {},
     "output_type": "execute_result"
    }
   ],
   "source": [
    "text_clf.fit(X_train, y_train)"
   ]
  },
  {
   "cell_type": "code",
   "execution_count": 67,
   "metadata": {
    "id": "buQivOSlz9qn"
   },
   "outputs": [
    {
     "ename": "NameError",
     "evalue": "name 'ptext_clf' is not defined",
     "output_type": "error",
     "traceback": [
      "\u001b[1;31m---------------------------------------------------------------------------\u001b[0m",
      "\u001b[1;31mNameError\u001b[0m                                 Traceback (most recent call last)",
      "\u001b[1;32m~\\AppData\\Local\\Temp/ipykernel_3216/2394208276.py\u001b[0m in \u001b[0;36m<module>\u001b[1;34m\u001b[0m\n\u001b[1;32m----> 1\u001b[1;33m \u001b[0mptext_clf\u001b[0m\u001b[1;33m.\u001b[0m\u001b[0mpredict\u001b[0m\u001b[1;33m(\u001b[0m\u001b[1;33m[\u001b[0m\u001b[1;34m'I have outdated information on my credit repor'\u001b[0m\u001b[1;33m]\u001b[0m\u001b[1;33m)\u001b[0m\u001b[1;33m[\u001b[0m\u001b[1;36m0\u001b[0m\u001b[1;33m]\u001b[0m\u001b[1;33m\u001b[0m\u001b[1;33m\u001b[0m\u001b[0m\n\u001b[0m",
      "\u001b[1;31mNameError\u001b[0m: name 'ptext_clf' is not defined"
     ]
    }
   ],
   "source": [
    "ptext_clf.predict(['I have outdated information on my credit repor'])[0]"
   ]
  },
  {
   "cell_type": "code",
   "execution_count": null,
   "metadata": {
    "id": "CrqXmz6-z9qn"
   },
   "outputs": [],
   "source": [
    "y_pred=text_clf.predict(X_test)"
   ]
  },
  {
   "cell_type": "code",
   "execution_count": null,
   "metadata": {
    "id": "w6L8X_6tQIyB"
   },
   "outputs": [],
   "source": [
    "y_pred"
   ]
  },
  {
   "cell_type": "code",
   "execution_count": null,
   "metadata": {
    "id": "mlI68pkXz9qn"
   },
   "outputs": [],
   "source": [
    "print(metrics.classification_report(y_test,y_pred))"
   ]
  },
  {
   "cell_type": "code",
   "execution_count": null,
   "metadata": {
    "id": "hD15fpYKxruE"
   },
   "outputs": [],
   "source": [
    "cv_results = cross_val_score(text_clf, \n",
    "                                 X_train, y_train, \n",
    "                                 cv=5,\n",
    "                                 scoring=\"accuracy\",\n",
    "                                 n_jobs=-1)\n",
    "print(np.mean(cv_results))"
   ]
  },
  {
   "cell_type": "code",
   "execution_count": null,
   "metadata": {
    "id": "E_YyovD64vjT"
   },
   "outputs": [],
   "source": [
    "from sklearn.ensemble import RandomForestClassifier"
   ]
  },
  {
   "cell_type": "code",
   "execution_count": null,
   "metadata": {
    "id": "gHpseA3nNzVx"
   },
   "outputs": [],
   "source": [
    "rf=RandomForestClassifier()"
   ]
  },
  {
   "cell_type": "code",
   "execution_count": null,
   "metadata": {
    "id": "UQcOOA3u-vUi"
   },
   "outputs": [],
   "source": [
    "text_clf=Pipeline([('tf',TfidfVectorizer(sublinear_tf= True, \n",
    "                       min_df = 5, \n",
    "                       norm= 'l2', \n",
    "                       ngram_range= (1,2), \n",
    "                       stop_words ='english') ),\n",
    "                 ('clf',RandomForestClassifier())])"
   ]
  },
  {
   "cell_type": "code",
   "execution_count": null,
   "metadata": {
    "id": "RgdI0uPH-vRb"
   },
   "outputs": [],
   "source": [
    "text_clf.fit(X_train, y_train)"
   ]
  },
  {
   "cell_type": "code",
   "execution_count": null,
   "metadata": {
    "id": "kqOAlc87-7VA"
   },
   "outputs": [],
   "source": [
    "text_clf.predict(['I have outdated information on my credit repor'])[0]"
   ]
  },
  {
   "cell_type": "code",
   "execution_count": null,
   "metadata": {
    "id": "7IPhEGuc-7R7"
   },
   "outputs": [],
   "source": [
    "y_pred=text_clf.predict(X_test)"
   ]
  },
  {
   "cell_type": "code",
   "execution_count": null,
   "metadata": {
    "id": "ygfj7XAu-7OF"
   },
   "outputs": [],
   "source": [
    "print(metrics.classification_report(y_test,y_pred))"
   ]
  },
  {
   "cell_type": "code",
   "execution_count": null,
   "metadata": {
    "id": "AxXoL8v6-7MC"
   },
   "outputs": [],
   "source": [
    "cv_results = cross_val_score(text_clf, \n",
    "                                 X_train, y_train, \n",
    "                                 cv=5,\n",
    "                                 scoring=\"accuracy\",\n",
    "                                 n_jobs=-1)"
   ]
  },
  {
   "cell_type": "code",
   "execution_count": null,
   "metadata": {
    "id": "pjJMTcUs_fuA"
   },
   "outputs": [],
   "source": [
    "print(np.mean(cv_results))"
   ]
  },
  {
   "cell_type": "code",
   "execution_count": null,
   "metadata": {
    "id": "5NQtUdCi492w"
   },
   "outputs": [],
   "source": []
  },
  {
   "cell_type": "code",
   "execution_count": null,
   "metadata": {
    "id": "UDUQJ2Ge49zP"
   },
   "outputs": [],
   "source": [
    "from xgboost import XGBClassifier"
   ]
  },
  {
   "cell_type": "code",
   "execution_count": null,
   "metadata": {
    "id": "lkLkzzNZ49u1"
   },
   "outputs": [],
   "source": [
    "text_clf=Pipeline([('tf',TfidfVectorizer(sublinear_tf= True, \n",
    "                       min_df = 5, \n",
    "                       norm= 'l2', \n",
    "                       ngram_range= (1,2), \n",
    "                       stop_words ='english') ),\n",
    "                 ('clf',XGBClassifier())])"
   ]
  },
  {
   "cell_type": "code",
   "execution_count": null,
   "metadata": {
    "id": "xnRI9FvI49sI"
   },
   "outputs": [],
   "source": [
    "text_clf.fit(X_train, y_train)"
   ]
  },
  {
   "cell_type": "code",
   "execution_count": null,
   "metadata": {
    "id": "GeuKaLOs_fq4"
   },
   "outputs": [],
   "source": [
    "y_pred=text_clf.predict(X_test)"
   ]
  },
  {
   "cell_type": "code",
   "execution_count": null,
   "metadata": {
    "id": "pqCfcLSQ5UAt"
   },
   "outputs": [],
   "source": [
    "print(metrics.classification_report(y_test,y_pred))"
   ]
  },
  {
   "cell_type": "code",
   "execution_count": null,
   "metadata": {
    "id": "wKt05Ogp5T-E"
   },
   "outputs": [],
   "source": [
    "cv_results = cross_val_score(text_clf, \n",
    "                                 X_train, y_train, \n",
    "                                 cv=5,\n",
    "                                 scoring=\"accuracy\",\n",
    "                                 n_jobs=-1)"
   ]
  },
  {
   "cell_type": "code",
   "execution_count": null,
   "metadata": {
    "id": "OmFbBEOc5T6D"
   },
   "outputs": [],
   "source": [
    "print(np.mean(cv_results))"
   ]
  },
  {
   "cell_type": "code",
   "execution_count": null,
   "metadata": {
    "id": "mua_FgAk5T3X"
   },
   "outputs": [],
   "source": []
  },
  {
   "cell_type": "code",
   "execution_count": null,
   "metadata": {
    "id": "5YuVNUKK5amA"
   },
   "outputs": [],
   "source": [
    "from lightgbm import LGBMClassifier"
   ]
  },
  {
   "cell_type": "code",
   "execution_count": null,
   "metadata": {
    "id": "OueELokd5ais"
   },
   "outputs": [],
   "source": [
    "text_clf=Pipeline([('tf',TfidfVectorizer(sublinear_tf= True, \n",
    "                       min_df = 5, \n",
    "                       norm= 'l2', \n",
    "                       ngram_range= (1,2), \n",
    "                       stop_words ='english') ),\n",
    "                 ('clf',LGBMClassifier())])"
   ]
  },
  {
   "cell_type": "code",
   "execution_count": null,
   "metadata": {
    "id": "OzuDPpi35jSW"
   },
   "outputs": [],
   "source": [
    "text_clf.fit(X_train, y_train)"
   ]
  },
  {
   "cell_type": "code",
   "execution_count": null,
   "metadata": {
    "id": "U4WK7EFR5jOI"
   },
   "outputs": [],
   "source": [
    "y_pred=text_clf.predict(X_test)"
   ]
  },
  {
   "cell_type": "code",
   "execution_count": null,
   "metadata": {
    "id": "vENjrdWB5jLg"
   },
   "outputs": [],
   "source": [
    "print(metrics.classification_report(y_test,y_pred))"
   ]
  },
  {
   "cell_type": "code",
   "execution_count": null,
   "metadata": {
    "id": "l94kreHH5xI7"
   },
   "outputs": [],
   "source": [
    "cv_results = cross_val_score(text_clf, \n",
    "                                 X_train, y_train, \n",
    "                                 cv=5,\n",
    "                                 scoring=\"accuracy\",\n",
    "                                 n_jobs=-1)"
   ]
  },
  {
   "cell_type": "code",
   "execution_count": null,
   "metadata": {
    "id": "SM73cADZ5xFX"
   },
   "outputs": [],
   "source": [
    "print(np.mean(cv_results))"
   ]
  },
  {
   "cell_type": "code",
   "execution_count": null,
   "metadata": {
    "id": "FZtnaa4g50Uf"
   },
   "outputs": [],
   "source": []
  },
  {
   "cell_type": "markdown",
   "metadata": {
    "id": "F1vcGt5PIHSz"
   },
   "source": [
    "### Hyperparameter Tuning"
   ]
  },
  {
   "cell_type": "code",
   "execution_count": null,
   "metadata": {
    "id": "kMdTK1k6NzSq"
   },
   "outputs": [],
   "source": [
    "from sklearn.model_selection import RandomizedSearchCV,GridSearchCV"
   ]
  },
  {
   "cell_type": "code",
   "execution_count": null,
   "metadata": {
    "id": "kSAmb5lnz9qo"
   },
   "outputs": [],
   "source": [
    " #Randomized Search CV\n",
    " import numpy as np\n",
    "n_estimators = [int(x) for x in np.linspace(start = 100, stop = 1200, num = 12)]\n",
    "max_features = ['auto', 'sqrt']\n",
    "max_depth = [int(x) for x in np.linspace(5, 30, num = 6)]\n",
    "min_samples_split = [2, 5, 10, 15, 100]\n",
    "min_samples_leaf = [1, 2, 5, 10]"
   ]
  },
  {
   "cell_type": "code",
   "execution_count": null,
   "metadata": {
    "id": "3kOAabZpM2H3"
   },
   "outputs": [],
   "source": [
    "random_grid = {'n_estimators': n_estimators,\n",
    "               'max_features': max_features,\n",
    "               'max_depth': max_depth,\n",
    "               'min_samples_split': min_samples_split,\n",
    "               'min_samples_leaf': min_samples_leaf}\n",
    "\n",
    "print(random_grid)"
   ]
  },
  {
   "cell_type": "code",
   "execution_count": null,
   "metadata": {
    "id": "5WwgzlYuM5wd"
   },
   "outputs": [],
   "source": [
    "from sklearn.ensemble import RandomForestClassifier\n",
    "rf = RandomForestClassifier()"
   ]
  },
  {
   "cell_type": "code",
   "execution_count": null,
   "metadata": {
    "id": "h7eqjBcKM_9L"
   },
   "outputs": [],
   "source": [
    "# Use the random grid to search for best hyperparameters\n",
    "rf=RandomizedSearchCV(estimator = rf, param_distributions = random_grid,scoring='accuracy', n_iter = 10, cv = 5,n_jobs=-1)"
   ]
  },
  {
   "cell_type": "code",
   "execution_count": null,
   "metadata": {
    "id": "6QvF3LWXNHl3"
   },
   "outputs": [],
   "source": [
    "rf.fit(X_train_tfidf, y_train)"
   ]
  },
  {
   "cell_type": "code",
   "execution_count": null,
   "metadata": {
    "id": "JBavysZr-YLb"
   },
   "outputs": [],
   "source": [
    "rf.best_params_"
   ]
  },
  {
   "cell_type": "code",
   "execution_count": null,
   "metadata": {
    "id": "DV0oyoVS-caZ"
   },
   "outputs": [],
   "source": [
    "rf.best_score_"
   ]
  },
  {
   "cell_type": "code",
   "execution_count": null,
   "metadata": {
    "id": "e7-hJUUlMGvn"
   },
   "outputs": [],
   "source": []
  },
  {
   "cell_type": "code",
   "execution_count": null,
   "metadata": {
    "id": "swaoIbiDMGjW"
   },
   "outputs": [],
   "source": [
    "from scipy.stats import uniform, randint"
   ]
  },
  {
   "cell_type": "code",
   "execution_count": null,
   "metadata": {
    "id": "sIDtnHxUMGZC"
   },
   "outputs": [],
   "source": [
    "xgb=XGBClassifier()"
   ]
  },
  {
   "cell_type": "code",
   "execution_count": null,
   "metadata": {
    "id": "zrF-Hkww9lVK"
   },
   "outputs": [],
   "source": [
    "params = {\n",
    "    \"gamma\": uniform(0, 0.5),\n",
    "    \"learning_rate\": uniform(0.03, 0.3), # default 0.1 \n",
    "    \"max_depth\": randint(2, 6), # default 3\n",
    "    \"n_estimators\": randint(100, 150), # default 100\n",
    "    \"subsample\": uniform(0.6, 0.4)\n",
    "}"
   ]
  },
  {
   "cell_type": "code",
   "execution_count": null,
   "metadata": {
    "id": "aIapH4kA9wV2"
   },
   "outputs": [],
   "source": [
    "xgb = RandomizedSearchCV(estimator = xgb, param_distributions = params,scoring='accuracy', n_iter = 10, cv = 5, n_jobs = -1)"
   ]
  },
  {
   "cell_type": "code",
   "execution_count": null,
   "metadata": {
    "id": "qnXD7Mud9wTA"
   },
   "outputs": [],
   "source": [
    "xgb.fit(X_train_tfidf, y_train)"
   ]
  },
  {
   "cell_type": "code",
   "execution_count": null,
   "metadata": {
    "id": "0zNh_Y0z91Xw"
   },
   "outputs": [],
   "source": [
    "xgb.best_params_"
   ]
  },
  {
   "cell_type": "code",
   "execution_count": null,
   "metadata": {
    "id": "74iwXah991Uz"
   },
   "outputs": [],
   "source": [
    "xgb.best_score_"
   ]
  },
  {
   "cell_type": "code",
   "execution_count": null,
   "metadata": {
    "id": "Iyc8_DoS-Dza"
   },
   "outputs": [],
   "source": []
  },
  {
   "cell_type": "code",
   "execution_count": null,
   "metadata": {
    "id": "HeGbzgSlICNv"
   },
   "outputs": [],
   "source": []
  },
  {
   "cell_type": "markdown",
   "metadata": {
    "id": "GACrEnrRIA-8"
   },
   "source": [
    "### Stacking Classifier"
   ]
  },
  {
   "cell_type": "code",
   "execution_count": null,
   "metadata": {
    "id": "uNGIVBgbPZdV"
   },
   "outputs": [],
   "source": [
    "from sklearn.ensemble import StackingClassifier\n",
    "estimators = [('rf', rf), ('mb', mb),('ab',XGBClassifier())]\n",
    "\n",
    "clf = StackingClassifier(estimators=estimators)"
   ]
  },
  {
   "cell_type": "code",
   "execution_count": null,
   "metadata": {
    "id": "ar-ngWs1D4DE"
   },
   "outputs": [],
   "source": [
    "clf.fit(X_train_tfidf, y_train)"
   ]
  },
  {
   "cell_type": "code",
   "execution_count": null,
   "metadata": {
    "id": "IcpagjK8D_Tp"
   },
   "outputs": [],
   "source": [
    "cv_results = cross_val_score(clf, \n",
    "                                 X_train_tfidf, y_train, \n",
    "                                 cv=5,\n",
    "                                 scoring=\"accuracy\",\n",
    "                                 n_jobs=-1)\n",
    "print(np.mean(cv_results))"
   ]
  },
  {
   "cell_type": "code",
   "execution_count": null,
   "metadata": {
    "id": "p7Go5U14ETbP"
   },
   "outputs": [],
   "source": []
  }
 ],
 "metadata": {
  "colab": {
   "name": "Consumer Complaint Classification.ipynb",
   "provenance": []
  },
  "kernelspec": {
   "display_name": "Python 3 (ipykernel)",
   "language": "python",
   "name": "python3"
  },
  "language_info": {
   "codemirror_mode": {
    "name": "ipython",
    "version": 3
   },
   "file_extension": ".py",
   "mimetype": "text/x-python",
   "name": "python",
   "nbconvert_exporter": "python",
   "pygments_lexer": "ipython3",
   "version": "3.9.6"
  }
 },
 "nbformat": 4,
 "nbformat_minor": 1
}
